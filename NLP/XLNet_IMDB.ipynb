{
  "nbformat": 4,
  "nbformat_minor": 0,
  "metadata": {
    "colab": {
      "name": "XLNet_IMDB.ipynb",
      "provenance": [],
      "collapsed_sections": [],
      "machine_shape": "hm"
    },
    "kernelspec": {
      "name": "python3",
      "display_name": "Python 3"
    },
    "accelerator": "TPU"
  },
  "cells": [
    {
      "cell_type": "code",
      "metadata": {
        "id": "d1i0f1Jg1Trw",
        "colab_type": "code",
        "outputId": "ac9c5ff2-5b50-4a6b-c7e8-08ca984b1680",
        "colab": {
          "base_uri": "https://localhost:8080/",
          "height": 120
        }
      },
      "source": [
        "# Load the Drive helper and mount\n",
        "from google.colab import drive\n",
        "\n",
        "# This will prompt for authorization.\n",
        "drive.mount('/content/drive')"
      ],
      "execution_count": 1,
      "outputs": [
        {
          "output_type": "stream",
          "text": [
            "Go to this URL in a browser: https://accounts.google.com/o/oauth2/auth?client_id=947318989803-6bn6qk8qdgf4n4g3pfee6491hc0brc4i.apps.googleusercontent.com&redirect_uri=urn%3aietf%3awg%3aoauth%3a2.0%3aoob&response_type=code&scope=email%20https%3a%2f%2fwww.googleapis.com%2fauth%2fdocs.test%20https%3a%2f%2fwww.googleapis.com%2fauth%2fdrive%20https%3a%2f%2fwww.googleapis.com%2fauth%2fdrive.photos.readonly%20https%3a%2f%2fwww.googleapis.com%2fauth%2fpeopleapi.readonly\n",
            "\n",
            "Enter your authorization code:\n",
            "··········\n",
            "Mounted at /content/drive\n"
          ],
          "name": "stdout"
        }
      ]
    },
    {
      "cell_type": "code",
      "metadata": {
        "id": "2_nC3uF82uoD",
        "colab_type": "code",
        "colab": {}
      },
      "source": [
        "import pandas as pd\n",
        "import math\n",
        "import numpy as np\n",
        "from sklearn.metrics import classification_report\n",
        "from sklearn.model_selection import train_test_split"
      ],
      "execution_count": 0,
      "outputs": []
    },
    {
      "cell_type": "code",
      "metadata": {
        "id": "KkJhxRiaAAXm",
        "colab_type": "code",
        "outputId": "f9023c4e-3b59-4c1e-d4ad-8de9483f3109",
        "colab": {
          "base_uri": "https://localhost:8080/",
          "height": 1000
        }
      },
      "source": [
        "!pip install keras-xlnet"
      ],
      "execution_count": 3,
      "outputs": [
        {
          "output_type": "stream",
          "text": [
            "Collecting keras-xlnet\n",
            "  Downloading https://files.pythonhosted.org/packages/f8/95/bbdc821aecf4b833d00da90cbbfb4f2b52dd18572fa9571daf9fc1166f0b/keras-xlnet-0.18.0.tar.gz\n",
            "Requirement already satisfied: numpy in /usr/local/lib/python3.6/dist-packages (from keras-xlnet) (1.17.4)\n",
            "Requirement already satisfied: Keras in /usr/local/lib/python3.6/dist-packages (from keras-xlnet) (2.2.5)\n",
            "Collecting sentencepiece\n",
            "\u001b[?25l  Downloading https://files.pythonhosted.org/packages/74/f4/2d5214cbf13d06e7cb2c20d84115ca25b53ea76fa1f0ade0e3c9749de214/sentencepiece-0.1.85-cp36-cp36m-manylinux1_x86_64.whl (1.0MB)\n",
            "\r\u001b[K     |▎                               | 10kB 20.2MB/s eta 0:00:01\r\u001b[K     |▋                               | 20kB 28.9MB/s eta 0:00:01\r\u001b[K     |█                               | 30kB 35.7MB/s eta 0:00:01\r\u001b[K     |█▎                              | 40kB 673kB/s eta 0:00:02\r\u001b[K     |█▋                              | 51kB 836kB/s eta 0:00:02\r\u001b[K     |██                              | 61kB 1.0MB/s eta 0:00:01\r\u001b[K     |██▏                             | 71kB 1.2MB/s eta 0:00:01\r\u001b[K     |██▌                             | 81kB 1.3MB/s eta 0:00:01\r\u001b[K     |██▉                             | 92kB 1.5MB/s eta 0:00:01\r\u001b[K     |███▏                            | 102kB 1.4MB/s eta 0:00:01\r\u001b[K     |███▌                            | 112kB 1.4MB/s eta 0:00:01\r\u001b[K     |███▉                            | 122kB 1.4MB/s eta 0:00:01\r\u001b[K     |████                            | 133kB 1.4MB/s eta 0:00:01\r\u001b[K     |████▍                           | 143kB 1.4MB/s eta 0:00:01\r\u001b[K     |████▊                           | 153kB 1.4MB/s eta 0:00:01\r\u001b[K     |█████                           | 163kB 1.4MB/s eta 0:00:01\r\u001b[K     |█████▍                          | 174kB 1.4MB/s eta 0:00:01\r\u001b[K     |█████▊                          | 184kB 1.4MB/s eta 0:00:01\r\u001b[K     |██████                          | 194kB 1.4MB/s eta 0:00:01\r\u001b[K     |██████▎                         | 204kB 1.4MB/s eta 0:00:01\r\u001b[K     |██████▋                         | 215kB 1.4MB/s eta 0:00:01\r\u001b[K     |███████                         | 225kB 1.4MB/s eta 0:00:01\r\u001b[K     |███████▎                        | 235kB 1.4MB/s eta 0:00:01\r\u001b[K     |███████▋                        | 245kB 1.4MB/s eta 0:00:01\r\u001b[K     |███████▉                        | 256kB 1.4MB/s eta 0:00:01\r\u001b[K     |████████▏                       | 266kB 1.4MB/s eta 0:00:01\r\u001b[K     |████████▌                       | 276kB 1.4MB/s eta 0:00:01\r\u001b[K     |████████▉                       | 286kB 1.4MB/s eta 0:00:01\r\u001b[K     |█████████▏                      | 296kB 1.4MB/s eta 0:00:01\r\u001b[K     |█████████▌                      | 307kB 1.4MB/s eta 0:00:01\r\u001b[K     |█████████▊                      | 317kB 1.4MB/s eta 0:00:01\r\u001b[K     |██████████                      | 327kB 1.4MB/s eta 0:00:01\r\u001b[K     |██████████▍                     | 337kB 1.4MB/s eta 0:00:01\r\u001b[K     |██████████▊                     | 348kB 1.4MB/s eta 0:00:01\r\u001b[K     |███████████                     | 358kB 1.4MB/s eta 0:00:01\r\u001b[K     |███████████▍                    | 368kB 1.4MB/s eta 0:00:01\r\u001b[K     |███████████▋                    | 378kB 1.4MB/s eta 0:00:01\r\u001b[K     |████████████                    | 389kB 1.4MB/s eta 0:00:01\r\u001b[K     |████████████▎                   | 399kB 1.4MB/s eta 0:00:01\r\u001b[K     |████████████▋                   | 409kB 1.4MB/s eta 0:00:01\r\u001b[K     |█████████████                   | 419kB 1.4MB/s eta 0:00:01\r\u001b[K     |█████████████▎                  | 430kB 1.4MB/s eta 0:00:01\r\u001b[K     |█████████████▌                  | 440kB 1.4MB/s eta 0:00:01\r\u001b[K     |█████████████▉                  | 450kB 1.4MB/s eta 0:00:01\r\u001b[K     |██████████████▏                 | 460kB 1.4MB/s eta 0:00:01\r\u001b[K     |██████████████▌                 | 471kB 1.4MB/s eta 0:00:01\r\u001b[K     |██████████████▉                 | 481kB 1.4MB/s eta 0:00:01\r\u001b[K     |███████████████▏                | 491kB 1.4MB/s eta 0:00:01\r\u001b[K     |███████████████▍                | 501kB 1.4MB/s eta 0:00:01\r\u001b[K     |███████████████▊                | 512kB 1.4MB/s eta 0:00:01\r\u001b[K     |████████████████                | 522kB 1.4MB/s eta 0:00:01\r\u001b[K     |████████████████▍               | 532kB 1.4MB/s eta 0:00:01\r\u001b[K     |████████████████▊               | 542kB 1.4MB/s eta 0:00:01\r\u001b[K     |█████████████████               | 552kB 1.4MB/s eta 0:00:01\r\u001b[K     |█████████████████▎              | 563kB 1.4MB/s eta 0:00:01\r\u001b[K     |█████████████████▋              | 573kB 1.4MB/s eta 0:00:01\r\u001b[K     |██████████████████              | 583kB 1.4MB/s eta 0:00:01\r\u001b[K     |██████████████████▎             | 593kB 1.4MB/s eta 0:00:01\r\u001b[K     |██████████████████▋             | 604kB 1.4MB/s eta 0:00:01\r\u001b[K     |███████████████████             | 614kB 1.4MB/s eta 0:00:01\r\u001b[K     |███████████████████▏            | 624kB 1.4MB/s eta 0:00:01\r\u001b[K     |███████████████████▌            | 634kB 1.4MB/s eta 0:00:01\r\u001b[K     |███████████████████▉            | 645kB 1.4MB/s eta 0:00:01\r\u001b[K     |████████████████████▏           | 655kB 1.4MB/s eta 0:00:01\r\u001b[K     |████████████████████▌           | 665kB 1.4MB/s eta 0:00:01\r\u001b[K     |████████████████████▉           | 675kB 1.4MB/s eta 0:00:01\r\u001b[K     |█████████████████████▏          | 686kB 1.4MB/s eta 0:00:01\r\u001b[K     |█████████████████████▍          | 696kB 1.4MB/s eta 0:00:01\r\u001b[K     |█████████████████████▊          | 706kB 1.4MB/s eta 0:00:01\r\u001b[K     |██████████████████████          | 716kB 1.4MB/s eta 0:00:01\r\u001b[K     |██████████████████████▍         | 727kB 1.4MB/s eta 0:00:01\r\u001b[K     |██████████████████████▊         | 737kB 1.4MB/s eta 0:00:01\r\u001b[K     |███████████████████████         | 747kB 1.4MB/s eta 0:00:01\r\u001b[K     |███████████████████████▎        | 757kB 1.4MB/s eta 0:00:01\r\u001b[K     |███████████████████████▋        | 768kB 1.4MB/s eta 0:00:01\r\u001b[K     |████████████████████████        | 778kB 1.4MB/s eta 0:00:01\r\u001b[K     |████████████████████████▎       | 788kB 1.4MB/s eta 0:00:01\r\u001b[K     |████████████████████████▋       | 798kB 1.4MB/s eta 0:00:01\r\u001b[K     |█████████████████████████       | 808kB 1.4MB/s eta 0:00:01\r\u001b[K     |█████████████████████████▏      | 819kB 1.4MB/s eta 0:00:01\r\u001b[K     |█████████████████████████▌      | 829kB 1.4MB/s eta 0:00:01\r\u001b[K     |█████████████████████████▉      | 839kB 1.4MB/s eta 0:00:01\r\u001b[K     |██████████████████████████▏     | 849kB 1.4MB/s eta 0:00:01\r\u001b[K     |██████████████████████████▌     | 860kB 1.4MB/s eta 0:00:01\r\u001b[K     |██████████████████████████▉     | 870kB 1.4MB/s eta 0:00:01\r\u001b[K     |███████████████████████████     | 880kB 1.4MB/s eta 0:00:01\r\u001b[K     |███████████████████████████▍    | 890kB 1.4MB/s eta 0:00:01\r\u001b[K     |███████████████████████████▊    | 901kB 1.4MB/s eta 0:00:01\r\u001b[K     |████████████████████████████    | 911kB 1.4MB/s eta 0:00:01\r\u001b[K     |████████████████████████████▍   | 921kB 1.4MB/s eta 0:00:01\r\u001b[K     |████████████████████████████▊   | 931kB 1.4MB/s eta 0:00:01\r\u001b[K     |█████████████████████████████   | 942kB 1.4MB/s eta 0:00:01\r\u001b[K     |█████████████████████████████▎  | 952kB 1.4MB/s eta 0:00:01\r\u001b[K     |█████████████████████████████▋  | 962kB 1.4MB/s eta 0:00:01\r\u001b[K     |██████████████████████████████  | 972kB 1.4MB/s eta 0:00:01\r\u001b[K     |██████████████████████████████▎ | 983kB 1.4MB/s eta 0:00:01\r\u001b[K     |██████████████████████████████▋ | 993kB 1.4MB/s eta 0:00:01\r\u001b[K     |██████████████████████████████▉ | 1.0MB 1.4MB/s eta 0:00:01\r\u001b[K     |███████████████████████████████▏| 1.0MB 1.4MB/s eta 0:00:01\r\u001b[K     |███████████████████████████████▌| 1.0MB 1.4MB/s eta 0:00:01\r\u001b[K     |███████████████████████████████▉| 1.0MB 1.4MB/s eta 0:00:01\r\u001b[K     |████████████████████████████████| 1.0MB 1.4MB/s \n",
            "\u001b[?25hCollecting keras-transformer>=0.30.0\n",
            "  Downloading https://files.pythonhosted.org/packages/0a/57/496b1eab888171b0801a0a44d3245a7874b8d1cc04c1fbfdbb5e3327fc7a/keras-transformer-0.31.0.tar.gz\n",
            "Collecting keras-transformer-xl>=0.10.0\n",
            "  Downloading https://files.pythonhosted.org/packages/f7/67/a0d30945ed5dc272a2a5d376b828a161ef507898cff59bd5f2cdb21d112f/keras-transformer-xl-0.11.0.tar.gz\n",
            "Collecting keras-trans-mask>=0.3.0\n",
            "  Downloading https://files.pythonhosted.org/packages/69/7e/ab721f17aeb089144c52d26355ff5d27f63611c54bd3e3065829488e8d08/keras-trans-mask-0.3.0.tar.gz\n",
            "Requirement already satisfied: six>=1.9.0 in /usr/local/lib/python3.6/dist-packages (from Keras->keras-xlnet) (1.12.0)\n",
            "Requirement already satisfied: keras-preprocessing>=1.1.0 in /usr/local/lib/python3.6/dist-packages (from Keras->keras-xlnet) (1.1.0)\n",
            "Requirement already satisfied: h5py in /usr/local/lib/python3.6/dist-packages (from Keras->keras-xlnet) (2.8.0)\n",
            "Requirement already satisfied: pyyaml in /usr/local/lib/python3.6/dist-packages (from Keras->keras-xlnet) (3.13)\n",
            "Requirement already satisfied: scipy>=0.14 in /usr/local/lib/python3.6/dist-packages (from Keras->keras-xlnet) (1.3.3)\n",
            "Requirement already satisfied: keras-applications>=1.0.8 in /usr/local/lib/python3.6/dist-packages (from Keras->keras-xlnet) (1.0.8)\n",
            "Collecting keras-pos-embd>=0.10.0\n",
            "  Downloading https://files.pythonhosted.org/packages/09/70/b63ed8fc660da2bb6ae29b9895401c628da5740c048c190b5d7107cadd02/keras-pos-embd-0.11.0.tar.gz\n",
            "Collecting keras-multi-head>=0.22.0\n",
            "  Downloading https://files.pythonhosted.org/packages/40/3e/d0a64bb2ac5217928effe4507c26bbd19b86145d16a1948bc2d4f4c6338a/keras-multi-head-0.22.0.tar.gz\n",
            "Collecting keras-layer-normalization>=0.12.0\n",
            "  Downloading https://files.pythonhosted.org/packages/a4/0e/d1078df0494bac9ce1a67954e5380b6e7569668f0f3b50a9531c62c1fc4a/keras-layer-normalization-0.14.0.tar.gz\n",
            "Collecting keras-position-wise-feed-forward>=0.5.0\n",
            "  Downloading https://files.pythonhosted.org/packages/e3/59/f0faa1037c033059e7e9e7758e6c23b4d1c0772cd48de14c4b6fd4033ad5/keras-position-wise-feed-forward-0.6.0.tar.gz\n",
            "Collecting keras-embed-sim>=0.7.0\n",
            "  Downloading https://files.pythonhosted.org/packages/bc/20/735fd53f6896e2af63af47e212601c1b8a7a80d00b6126c388c9d1233892/keras-embed-sim-0.7.0.tar.gz\n",
            "Collecting keras-adaptive-softmax>=0.6.0\n",
            "  Downloading https://files.pythonhosted.org/packages/7b/7c/c58a76f3e9fdfb6252eaa18aac1dcbf011eac96c6de3adbb47db318567dd/keras-adaptive-softmax-0.6.0.tar.gz\n",
            "Collecting keras-self-attention==0.41.0\n",
            "  Downloading https://files.pythonhosted.org/packages/1b/1c/01599219bef7266fa43b3316e4f55bcb487734d3bafdc60ffd564f3cfe29/keras-self-attention-0.41.0.tar.gz\n",
            "Building wheels for collected packages: keras-xlnet, keras-transformer, keras-transformer-xl, keras-trans-mask, keras-pos-embd, keras-multi-head, keras-layer-normalization, keras-position-wise-feed-forward, keras-embed-sim, keras-adaptive-softmax, keras-self-attention\n",
            "  Building wheel for keras-xlnet (setup.py) ... \u001b[?25l\u001b[?25hdone\n",
            "  Created wheel for keras-xlnet: filename=keras_xlnet-0.18.0-cp36-none-any.whl size=44299 sha256=5b88b4e313d7ee47217b3262a28d1eca85a8bef1e0720030cc1ea0c1f86b53d1\n",
            "  Stored in directory: /root/.cache/pip/wheels/26/fa/2d/68fed1da83d148f8cceea78242835efdd9bdd201620cba67b1\n",
            "  Building wheel for keras-transformer (setup.py) ... \u001b[?25l\u001b[?25hdone\n",
            "  Created wheel for keras-transformer: filename=keras_transformer-0.31.0-cp36-none-any.whl size=13385 sha256=609f10bf94269e3d3dc41877a18b82a4c6584adbe37bbc71401cf673dde7766d\n",
            "  Stored in directory: /root/.cache/pip/wheels/a3/c5/9a/5a5130240be614a7a6fa786765d7692ae97f82601e2161bb56\n",
            "  Building wheel for keras-transformer-xl (setup.py) ... \u001b[?25l\u001b[?25hdone\n",
            "  Created wheel for keras-transformer-xl: filename=keras_transformer_xl-0.11.0-cp36-none-any.whl size=20658 sha256=33e931d9c87f4ed4aa7721baddd6ca1939d229a6b704b98317a34a95bb47b8b9\n",
            "  Stored in directory: /root/.cache/pip/wheels/ad/8d/1d/d93406806db7a917d1d59054477c1473db1e16fbd789f6dbc6\n",
            "  Building wheel for keras-trans-mask (setup.py) ... \u001b[?25l\u001b[?25hdone\n",
            "  Created wheel for keras-trans-mask: filename=keras_trans_mask-0.3.0-cp36-none-any.whl size=4206 sha256=758ee96ec15c993ef50e7893e02d6abf8cfe77f9b8282ac97cfcb06b53f2103d\n",
            "  Stored in directory: /root/.cache/pip/wheels/a4/a5/2a/88a6f3c9276c7d55e1322d7aa46924172de2d68db442fc2727\n",
            "  Building wheel for keras-pos-embd (setup.py) ... \u001b[?25l\u001b[?25hdone\n",
            "  Created wheel for keras-pos-embd: filename=keras_pos_embd-0.11.0-cp36-none-any.whl size=7553 sha256=cde2137cd472208e22434f9ae32358770c26944a4badc3845c645d3c550bef48\n",
            "  Stored in directory: /root/.cache/pip/wheels/5b/a1/a0/ce6b1d49ba1a9a76f592e70cf297b05c96bc9f418146761032\n",
            "  Building wheel for keras-multi-head (setup.py) ... \u001b[?25l\u001b[?25hdone\n",
            "  Created wheel for keras-multi-head: filename=keras_multi_head-0.22.0-cp36-none-any.whl size=15371 sha256=2efbbc2b85bc76b9860ba1dece85ab97b489588c979157c3af24e94e4968df06\n",
            "  Stored in directory: /root/.cache/pip/wheels/bb/df/3f/81b36f41b66e6a9cd69224c70a737de2bb6b2f7feb3272c25e\n",
            "  Building wheel for keras-layer-normalization (setup.py) ... \u001b[?25l\u001b[?25hdone\n",
            "  Created wheel for keras-layer-normalization: filename=keras_layer_normalization-0.14.0-cp36-none-any.whl size=5268 sha256=05d5867752c40d6e057ad91adb31fd873af64f748f1e3afcd747d37def96df66\n",
            "  Stored in directory: /root/.cache/pip/wheels/54/80/22/a638a7d406fd155e507aa33d703e3fa2612b9eb7bb4f4fe667\n",
            "  Building wheel for keras-position-wise-feed-forward (setup.py) ... \u001b[?25l\u001b[?25hdone\n",
            "  Created wheel for keras-position-wise-feed-forward: filename=keras_position_wise_feed_forward-0.6.0-cp36-none-any.whl size=5624 sha256=3190cac174f0946074b4aef96d3586d42ddd007dccf17e42b73250eef871ef62\n",
            "  Stored in directory: /root/.cache/pip/wheels/39/e2/e2/3514fef126a00574b13bc0b9e23891800158df3a3c19c96e3b\n",
            "  Building wheel for keras-embed-sim (setup.py) ... \u001b[?25l\u001b[?25hdone\n",
            "  Created wheel for keras-embed-sim: filename=keras_embed_sim-0.7.0-cp36-none-any.whl size=4676 sha256=cec5df2e7fa9c06c646d02e98681dbe88e24503994d78e20df747161f893f7c2\n",
            "  Stored in directory: /root/.cache/pip/wheels/d1/bc/b1/b0c45cee4ca2e6c86586b0218ffafe7f0703c6d07fdf049866\n",
            "  Building wheel for keras-adaptive-softmax (setup.py) ... \u001b[?25l\u001b[?25hdone\n",
            "  Created wheel for keras-adaptive-softmax: filename=keras_adaptive_softmax-0.6.0-cp36-none-any.whl size=20242 sha256=d3812ad58246a9c4206383cc836edd0faf12171fabe12e7653a93d6f4a3b2b87\n",
            "  Stored in directory: /root/.cache/pip/wheels/b1/80/55/8516bf7477422d8790431f6c96a6f10f8cc7ce6147603e83a0\n",
            "  Building wheel for keras-self-attention (setup.py) ... \u001b[?25l\u001b[?25hdone\n",
            "  Created wheel for keras-self-attention: filename=keras_self_attention-0.41.0-cp36-none-any.whl size=17290 sha256=3a1f0adaa1b8649cc66b5cf751d66fad44a0dc980eb52b98d4438d05afe66d9d\n",
            "  Stored in directory: /root/.cache/pip/wheels/cc/dc/17/84258b27a04cd38ac91998abe148203720ca696186635db694\n",
            "Successfully built keras-xlnet keras-transformer keras-transformer-xl keras-trans-mask keras-pos-embd keras-multi-head keras-layer-normalization keras-position-wise-feed-forward keras-embed-sim keras-adaptive-softmax keras-self-attention\n",
            "Installing collected packages: sentencepiece, keras-pos-embd, keras-self-attention, keras-multi-head, keras-layer-normalization, keras-position-wise-feed-forward, keras-embed-sim, keras-transformer, keras-adaptive-softmax, keras-transformer-xl, keras-trans-mask, keras-xlnet\n",
            "Successfully installed keras-adaptive-softmax-0.6.0 keras-embed-sim-0.7.0 keras-layer-normalization-0.14.0 keras-multi-head-0.22.0 keras-pos-embd-0.11.0 keras-position-wise-feed-forward-0.6.0 keras-self-attention-0.41.0 keras-trans-mask-0.3.0 keras-transformer-0.31.0 keras-transformer-xl-0.11.0 keras-xlnet-0.18.0 sentencepiece-0.1.85\n"
          ],
          "name": "stdout"
        }
      ]
    },
    {
      "cell_type": "code",
      "metadata": {
        "id": "7vi8rRjK0O_m",
        "colab_type": "code",
        "outputId": "6edd9ddd-6f66-47dc-d708-a8544911cd3d",
        "colab": {
          "base_uri": "https://localhost:8080/",
          "height": 438
        }
      },
      "source": [
        "!pip install keras-bert"
      ],
      "execution_count": 4,
      "outputs": [
        {
          "output_type": "stream",
          "text": [
            "Collecting keras-bert\n",
            "  Downloading https://files.pythonhosted.org/packages/df/fe/bf46de1ef9d1395cd735d8df5402f5d837ef82cfd348a252ad8f32feeaef/keras-bert-0.80.0.tar.gz\n",
            "Requirement already satisfied: numpy in /usr/local/lib/python3.6/dist-packages (from keras-bert) (1.17.4)\n",
            "Requirement already satisfied: Keras in /usr/local/lib/python3.6/dist-packages (from keras-bert) (2.2.5)\n",
            "Requirement already satisfied: keras-transformer>=0.30.0 in /usr/local/lib/python3.6/dist-packages (from keras-bert) (0.31.0)\n",
            "Requirement already satisfied: six>=1.9.0 in /usr/local/lib/python3.6/dist-packages (from Keras->keras-bert) (1.12.0)\n",
            "Requirement already satisfied: h5py in /usr/local/lib/python3.6/dist-packages (from Keras->keras-bert) (2.8.0)\n",
            "Requirement already satisfied: keras-applications>=1.0.8 in /usr/local/lib/python3.6/dist-packages (from Keras->keras-bert) (1.0.8)\n",
            "Requirement already satisfied: keras-preprocessing>=1.1.0 in /usr/local/lib/python3.6/dist-packages (from Keras->keras-bert) (1.1.0)\n",
            "Requirement already satisfied: scipy>=0.14 in /usr/local/lib/python3.6/dist-packages (from Keras->keras-bert) (1.3.3)\n",
            "Requirement already satisfied: pyyaml in /usr/local/lib/python3.6/dist-packages (from Keras->keras-bert) (3.13)\n",
            "Requirement already satisfied: keras-pos-embd>=0.10.0 in /usr/local/lib/python3.6/dist-packages (from keras-transformer>=0.30.0->keras-bert) (0.11.0)\n",
            "Requirement already satisfied: keras-multi-head>=0.22.0 in /usr/local/lib/python3.6/dist-packages (from keras-transformer>=0.30.0->keras-bert) (0.22.0)\n",
            "Requirement already satisfied: keras-layer-normalization>=0.12.0 in /usr/local/lib/python3.6/dist-packages (from keras-transformer>=0.30.0->keras-bert) (0.14.0)\n",
            "Requirement already satisfied: keras-embed-sim>=0.7.0 in /usr/local/lib/python3.6/dist-packages (from keras-transformer>=0.30.0->keras-bert) (0.7.0)\n",
            "Requirement already satisfied: keras-position-wise-feed-forward>=0.5.0 in /usr/local/lib/python3.6/dist-packages (from keras-transformer>=0.30.0->keras-bert) (0.6.0)\n",
            "Requirement already satisfied: keras-self-attention==0.41.0 in /usr/local/lib/python3.6/dist-packages (from keras-multi-head>=0.22.0->keras-transformer>=0.30.0->keras-bert) (0.41.0)\n",
            "Building wheels for collected packages: keras-bert\n",
            "  Building wheel for keras-bert (setup.py) ... \u001b[?25l\u001b[?25hdone\n",
            "  Created wheel for keras-bert: filename=keras_bert-0.80.0-cp36-none-any.whl size=37923 sha256=7e7b38d9fc3b2e02e931418571da043c9d925abd92f3416af2e690eff51a05da\n",
            "  Stored in directory: /root/.cache/pip/wheels/63/dc/87/3260cb91f3aa32c0f85c5375429a30c8fd988bbb48f5ee21b0\n",
            "Successfully built keras-bert\n",
            "Installing collected packages: keras-bert\n",
            "Successfully installed keras-bert-0.80.0\n"
          ],
          "name": "stdout"
        }
      ]
    },
    {
      "cell_type": "code",
      "metadata": {
        "id": "39r1b9jF0lDS",
        "colab_type": "code",
        "outputId": "cfd7acc6-9390-46f7-94c6-2d333e1c1856",
        "colab": {
          "base_uri": "https://localhost:8080/",
          "height": 33
        }
      },
      "source": [
        "import os\n",
        "import numpy as np\n",
        "import pandas as pd\n",
        "from keras_xlnet.backend import keras\n",
        "from keras_bert.layers import Extract\n",
        "from keras_xlnet import PretrainedList, get_pretrained_paths\n",
        "from keras_xlnet import Tokenizer, load_trained_model_from_checkpoint, ATTENTION_TYPE_BI\n",
        "from keras.callbacks import ModelCheckpoint"
      ],
      "execution_count": 5,
      "outputs": [
        {
          "output_type": "stream",
          "text": [
            "Using TensorFlow backend.\n"
          ],
          "name": "stderr"
        }
      ]
    },
    {
      "cell_type": "code",
      "metadata": {
        "id": "xaZpUEAZ1Hyy",
        "colab_type": "code",
        "colab": {}
      },
      "source": [
        "EPOCH = 10\n",
        "BATCH_SIZE = 128\n",
        "SEQ_LEN = 120\n",
        "MODEL_NAME = 'imdb.h5'"
      ],
      "execution_count": 0,
      "outputs": []
    },
    {
      "cell_type": "code",
      "metadata": {
        "id": "imxqgIpS2FnH",
        "colab_type": "code",
        "colab": {}
      },
      "source": [
        "#importing the dataset\n",
        "train_df = pd.read_csv(\"/content/drive/My Drive/Movie_Reviews/RNN/train_cleaned.csv\")\n",
        "#train_df, valid_df =  train_test_split(train_df, random_state=0, test_size=0.2)\n",
        "#print(train_df.shape, valid_df.shape)\n",
        "test_df = pd.read_csv(\"/content/drive/My Drive/Movie_Reviews/RNN/test_cleaned.csv\")"
      ],
      "execution_count": 0,
      "outputs": []
    },
    {
      "cell_type": "code",
      "metadata": {
        "id": "eR1Uk7AVojhP",
        "colab_type": "code",
        "outputId": "8e8afd40-c23b-428f-aae6-8935a59e53dd",
        "colab": {
          "base_uri": "https://localhost:8080/",
          "height": 196
        }
      },
      "source": [
        "train_df = train_df.sample(frac=1).reset_index(drop=True)\n",
        "train_df.head()"
      ],
      "execution_count": 8,
      "outputs": [
        {
          "output_type": "execute_result",
          "data": {
            "text/html": [
              "<div>\n",
              "<style scoped>\n",
              "    .dataframe tbody tr th:only-of-type {\n",
              "        vertical-align: middle;\n",
              "    }\n",
              "\n",
              "    .dataframe tbody tr th {\n",
              "        vertical-align: top;\n",
              "    }\n",
              "\n",
              "    .dataframe thead th {\n",
              "        text-align: right;\n",
              "    }\n",
              "</style>\n",
              "<table border=\"1\" class=\"dataframe\">\n",
              "  <thead>\n",
              "    <tr style=\"text-align: right;\">\n",
              "      <th></th>\n",
              "      <th>reviews</th>\n",
              "      <th>pos_or_neg</th>\n",
              "    </tr>\n",
              "  </thead>\n",
              "  <tbody>\n",
              "    <tr>\n",
              "      <th>0</th>\n",
              "      <td>love trap must see independent film sat watch ...</td>\n",
              "      <td>1</td>\n",
              "    </tr>\n",
              "    <tr>\n",
              "      <th>1</th>\n",
              "      <td>guess go prove joe baker anything buck concept...</td>\n",
              "      <td>0</td>\n",
              "    </tr>\n",
              "    <tr>\n",
              "      <th>2</th>\n",
              "      <td>cinderella beautiful young woman treated cruel...</td>\n",
              "      <td>1</td>\n",
              "    </tr>\n",
              "    <tr>\n",
              "      <th>3</th>\n",
              "      <td>movie ok like mindless action corny acting sma...</td>\n",
              "      <td>1</td>\n",
              "    </tr>\n",
              "    <tr>\n",
              "      <th>4</th>\n",
              "      <td>movie simply far long far repetitive male nudi...</td>\n",
              "      <td>0</td>\n",
              "    </tr>\n",
              "  </tbody>\n",
              "</table>\n",
              "</div>"
            ],
            "text/plain": [
              "                                             reviews  pos_or_neg\n",
              "0  love trap must see independent film sat watch ...           1\n",
              "1  guess go prove joe baker anything buck concept...           0\n",
              "2  cinderella beautiful young woman treated cruel...           1\n",
              "3  movie ok like mindless action corny acting sma...           1\n",
              "4  movie simply far long far repetitive male nudi...           0"
            ]
          },
          "metadata": {
            "tags": []
          },
          "execution_count": 8
        }
      ]
    },
    {
      "cell_type": "code",
      "metadata": {
        "id": "_cCwWBaxF2uJ",
        "colab_type": "code",
        "colab": {}
      },
      "source": [
        "#valid_df = valid_df.sample(frac=1).reset_index(drop=True)\n",
        "#valid_df.head()"
      ],
      "execution_count": 0,
      "outputs": []
    },
    {
      "cell_type": "code",
      "metadata": {
        "id": "KeAYzzdXo2eM",
        "colab_type": "code",
        "outputId": "c664ec90-bfea-4bd9-93f7-515457fdc123",
        "colab": {
          "base_uri": "https://localhost:8080/",
          "height": 196
        }
      },
      "source": [
        "#test_df = test_df.sample(frac=1).reset_index(drop=True)\n",
        "test_df.head()"
      ],
      "execution_count": 10,
      "outputs": [
        {
          "output_type": "execute_result",
          "data": {
            "text/html": [
              "<div>\n",
              "<style scoped>\n",
              "    .dataframe tbody tr th:only-of-type {\n",
              "        vertical-align: middle;\n",
              "    }\n",
              "\n",
              "    .dataframe tbody tr th {\n",
              "        vertical-align: top;\n",
              "    }\n",
              "\n",
              "    .dataframe thead th {\n",
              "        text-align: right;\n",
              "    }\n",
              "</style>\n",
              "<table border=\"1\" class=\"dataframe\">\n",
              "  <thead>\n",
              "    <tr style=\"text-align: right;\">\n",
              "      <th></th>\n",
              "      <th>reviews</th>\n",
              "      <th>pos_or_neg</th>\n",
              "    </tr>\n",
              "  </thead>\n",
              "  <tbody>\n",
              "    <tr>\n",
              "      <th>0</th>\n",
              "      <td>went saw movie last night coaxed friend mine i...</td>\n",
              "      <td>1</td>\n",
              "    </tr>\n",
              "    <tr>\n",
              "      <th>1</th>\n",
              "      <td>actor turned director bill paxton follows prom...</td>\n",
              "      <td>1</td>\n",
              "    </tr>\n",
              "    <tr>\n",
              "      <th>2</th>\n",
              "      <td>recreational golfer knowledge sport history pl...</td>\n",
              "      <td>1</td>\n",
              "    </tr>\n",
              "    <tr>\n",
              "      <th>3</th>\n",
              "      <td>saw film sneak preview delightful cinematograp...</td>\n",
              "      <td>1</td>\n",
              "    </tr>\n",
              "    <tr>\n",
              "      <th>4</th>\n",
              "      <td>bill paxton taken true story u golf open made ...</td>\n",
              "      <td>1</td>\n",
              "    </tr>\n",
              "  </tbody>\n",
              "</table>\n",
              "</div>"
            ],
            "text/plain": [
              "                                             reviews  pos_or_neg\n",
              "0  went saw movie last night coaxed friend mine i...           1\n",
              "1  actor turned director bill paxton follows prom...           1\n",
              "2  recreational golfer knowledge sport history pl...           1\n",
              "3  saw film sneak preview delightful cinematograp...           1\n",
              "4  bill paxton taken true story u golf open made ...           1"
            ]
          },
          "metadata": {
            "tags": []
          },
          "execution_count": 10
        }
      ]
    },
    {
      "cell_type": "code",
      "metadata": {
        "id": "_HK-97tF3LhU",
        "colab_type": "code",
        "outputId": "ee8ec7f5-1eb9-4fca-fea1-8e4892634803",
        "colab": {
          "base_uri": "https://localhost:8080/",
          "height": 1000
        }
      },
      "source": [
        "# Load pretrained model\n",
        "paths = get_pretrained_paths(PretrainedList.en_cased_base)\n",
        "tokenizer = Tokenizer(paths.vocab)\n",
        "model = load_trained_model_from_checkpoint(\n",
        "    config_path=paths.config,\n",
        "    checkpoint_path=paths.model,\n",
        "    batch_size=BATCH_SIZE,\n",
        "    memory_len=0,\n",
        "    target_len=SEQ_LEN,\n",
        "    in_train_phase=False,\n",
        "    attention_type=ATTENTION_TYPE_BI,\n",
        ")\n",
        "\n",
        "\n",
        "# Build classification model\n",
        "last = Extract(index=-1, name='Extract')(model.output)\n",
        "dense = keras.layers.Dense(units=256, activation='relu', name='Dense')(last)\n",
        "dropout = keras.layers.Dropout(rate=0.5, name='Dropout')(dense)\n",
        "output = keras.layers.Dense(units=1, activation='sigmoid', name='Sigmoid')(dropout)\n",
        "model = keras.models.Model(inputs=model.inputs, outputs=output)\n",
        "model.summary()"
      ],
      "execution_count": 11,
      "outputs": [
        {
          "output_type": "stream",
          "text": [
            "Downloading data from https://storage.googleapis.com/xlnet/released_models/cased_L-12_H-768_A-12.zip\n",
            "433643520/433638019 [==============================] - 4s 0us/step\n",
            "WARNING:tensorflow:From /usr/local/lib/python3.6/dist-packages/keras/backend/tensorflow_backend.py:541: The name tf.placeholder is deprecated. Please use tf.compat.v1.placeholder instead.\n",
            "\n",
            "WARNING:tensorflow:From /usr/local/lib/python3.6/dist-packages/keras/backend/tensorflow_backend.py:4432: The name tf.random_uniform is deprecated. Please use tf.random.uniform instead.\n",
            "\n",
            "WARNING:tensorflow:From /usr/local/lib/python3.6/dist-packages/keras/backend/tensorflow_backend.py:1020: The name tf.assign is deprecated. Please use tf.compat.v1.assign instead.\n",
            "\n",
            "WARNING:tensorflow:From /usr/local/lib/python3.6/dist-packages/keras/backend/tensorflow_backend.py:4479: The name tf.truncated_normal is deprecated. Please use tf.random.truncated_normal instead.\n",
            "\n",
            "WARNING:tensorflow:From /usr/local/lib/python3.6/dist-packages/keras/backend/tensorflow_backend.py:66: The name tf.get_default_graph is deprecated. Please use tf.compat.v1.get_default_graph instead.\n",
            "\n",
            "WARNING:tensorflow:From /usr/local/lib/python3.6/dist-packages/keras/backend/tensorflow_backend.py:190: The name tf.get_default_session is deprecated. Please use tf.compat.v1.get_default_session instead.\n",
            "\n",
            "WARNING:tensorflow:From /usr/local/lib/python3.6/dist-packages/keras/backend/tensorflow_backend.py:197: The name tf.ConfigProto is deprecated. Please use tf.compat.v1.ConfigProto instead.\n",
            "\n",
            "WARNING:tensorflow:From /usr/local/lib/python3.6/dist-packages/keras/backend/tensorflow_backend.py:203: The name tf.Session is deprecated. Please use tf.compat.v1.Session instead.\n",
            "\n",
            "WARNING:tensorflow:From /usr/local/lib/python3.6/dist-packages/keras/backend/tensorflow_backend.py:207: The name tf.global_variables is deprecated. Please use tf.compat.v1.global_variables instead.\n",
            "\n",
            "WARNING:tensorflow:From /usr/local/lib/python3.6/dist-packages/keras/backend/tensorflow_backend.py:216: The name tf.is_variable_initialized is deprecated. Please use tf.compat.v1.is_variable_initialized instead.\n",
            "\n",
            "WARNING:tensorflow:From /usr/local/lib/python3.6/dist-packages/keras/backend/tensorflow_backend.py:223: The name tf.variables_initializer is deprecated. Please use tf.compat.v1.variables_initializer instead.\n",
            "\n",
            "WARNING:tensorflow:From /usr/local/lib/python3.6/dist-packages/keras/backend/tensorflow_backend.py:148: The name tf.placeholder_with_default is deprecated. Please use tf.compat.v1.placeholder_with_default instead.\n",
            "\n",
            "WARNING:tensorflow:From /usr/local/lib/python3.6/dist-packages/keras/backend/tensorflow_backend.py:3733: calling dropout (from tensorflow.python.ops.nn_ops) with keep_prob is deprecated and will be removed in a future version.\n",
            "Instructions for updating:\n",
            "Please use `rate` instead of `keep_prob`. Rate should be set to `rate = 1 - keep_prob`.\n",
            "Model: \"model_2\"\n",
            "__________________________________________________________________________________________________\n",
            "Layer (type)                    Output Shape         Param #     Connected to                     \n",
            "==================================================================================================\n",
            "Input-Token (InputLayer)        (None, 120)          0                                            \n",
            "__________________________________________________________________________________________________\n",
            "Embed-Token (EmbeddingRet)      [(None, 120, 768), ( 24576000    Input-Token[0][0]                \n",
            "__________________________________________________________________________________________________\n",
            "Masking (CreateMask)            (None, 120)          0           Input-Token[0][0]                \n",
            "__________________________________________________________________________________________________\n",
            "Embed-Token-Masked (RestoreMask (None, 120, 768)     0           Embed-Token[0][0]                \n",
            "                                                                 Masking[0][0]                    \n",
            "__________________________________________________________________________________________________\n",
            "Input-Memory-Length (InputLayer (None, 1)            0                                            \n",
            "__________________________________________________________________________________________________\n",
            "Memory-0 (Memory)               (None, None, 768)    11796480    Embed-Token-Masked[0][0]         \n",
            "                                                                 Input-Memory-Length[0][0]        \n",
            "__________________________________________________________________________________________________\n",
            "Input-Segment (InputLayer)      (None, 120)          0                                            \n",
            "__________________________________________________________________________________________________\n",
            "Embed-Segment-1 (RelativeSegmen [(None, 120, None, 2 1536        Input-Segment[0][0]              \n",
            "                                                                 Memory-0[0][0]                   \n",
            "__________________________________________________________________________________________________\n",
            "Embed-Pos (PositionalEmbedding) (None, None, 768)    0           Embed-Token-Masked[0][0]         \n",
            "                                                                 Memory-0[0][0]                   \n",
            "__________________________________________________________________________________________________\n",
            "Relative-Bias-1 (RelativeBias)  [(768,), (768,)]     1536        Memory-0[0][0]                   \n",
            "__________________________________________________________________________________________________\n",
            "Segment-Bias-1 (SegmentBias)    (768,)               768         Memory-0[0][0]                   \n",
            "__________________________________________________________________________________________________\n",
            "Permutation (PermutationMask)   [(None, 120, None),  0           Embed-Token-Masked[0][0]         \n",
            "                                                                 Memory-0[0][0]                   \n",
            "__________________________________________________________________________________________________\n",
            "Attention-1 (RelativePartialMul (None, 120, 768)     2949120     Embed-Token-Masked[0][0]         \n",
            "                                                                 Embed-Token-Masked[0][0]         \n",
            "                                                                 Memory-0[0][0]                   \n",
            "                                                                 Embed-Segment-1[0][0]            \n",
            "                                                                 Embed-Segment-1[0][1]            \n",
            "                                                                 Embed-Pos[0][0]                  \n",
            "                                                                 Relative-Bias-1[0][0]            \n",
            "                                                                 Relative-Bias-1[0][1]            \n",
            "                                                                 Segment-Bias-1[0][0]             \n",
            "                                                                 Permutation[0][0]                \n",
            "__________________________________________________________________________________________________\n",
            "Attention-Residual-1 (Add)      (None, 120, 768)     0           Embed-Token-Masked[0][0]         \n",
            "                                                                 Attention-1[0][0]                \n",
            "__________________________________________________________________________________________________\n",
            "Attention-Normal-1 (LayerNormal (None, 120, 768)     1536        Attention-Residual-1[0][0]       \n",
            "__________________________________________________________________________________________________\n",
            "FeedForward-1 (FeedForward)     (None, 120, 768)     4722432     Attention-Normal-1[0][0]         \n",
            "__________________________________________________________________________________________________\n",
            "FeedForward-Residual-1 (Add)    (None, 120, 768)     0           Attention-Normal-1[0][0]         \n",
            "                                                                 FeedForward-1[0][0]              \n",
            "__________________________________________________________________________________________________\n",
            "FeedForward-Normal-1 (LayerNorm (None, 120, 768)     1536        FeedForward-Residual-1[0][0]     \n",
            "__________________________________________________________________________________________________\n",
            "Memory-1 (Memory)               (None, None, 768)    11796480    FeedForward-Normal-1[0][0]       \n",
            "                                                                 Input-Memory-Length[0][0]        \n",
            "__________________________________________________________________________________________________\n",
            "Embed-Segment-2 (RelativeSegmen [(None, 120, None, 2 1536        Input-Segment[0][0]              \n",
            "                                                                 Memory-1[0][0]                   \n",
            "__________________________________________________________________________________________________\n",
            "Relative-Bias-2 (RelativeBias)  [(768,), (768,)]     1536        Memory-1[0][0]                   \n",
            "__________________________________________________________________________________________________\n",
            "Segment-Bias-2 (SegmentBias)    (768,)               768         Memory-1[0][0]                   \n",
            "__________________________________________________________________________________________________\n",
            "Attention-2 (RelativePartialMul (None, 120, 768)     2949120     FeedForward-Normal-1[0][0]       \n",
            "                                                                 FeedForward-Normal-1[0][0]       \n",
            "                                                                 Memory-1[0][0]                   \n",
            "                                                                 Embed-Segment-2[0][0]            \n",
            "                                                                 Embed-Segment-2[0][1]            \n",
            "                                                                 Embed-Pos[0][0]                  \n",
            "                                                                 Relative-Bias-2[0][0]            \n",
            "                                                                 Relative-Bias-2[0][1]            \n",
            "                                                                 Segment-Bias-2[0][0]             \n",
            "                                                                 Permutation[0][0]                \n",
            "__________________________________________________________________________________________________\n",
            "Attention-Residual-2 (Add)      (None, 120, 768)     0           FeedForward-Normal-1[0][0]       \n",
            "                                                                 Attention-2[0][0]                \n",
            "__________________________________________________________________________________________________\n",
            "Attention-Normal-2 (LayerNormal (None, 120, 768)     1536        Attention-Residual-2[0][0]       \n",
            "__________________________________________________________________________________________________\n",
            "FeedForward-2 (FeedForward)     (None, 120, 768)     4722432     Attention-Normal-2[0][0]         \n",
            "__________________________________________________________________________________________________\n",
            "FeedForward-Residual-2 (Add)    (None, 120, 768)     0           Attention-Normal-2[0][0]         \n",
            "                                                                 FeedForward-2[0][0]              \n",
            "__________________________________________________________________________________________________\n",
            "FeedForward-Normal-2 (LayerNorm (None, 120, 768)     1536        FeedForward-Residual-2[0][0]     \n",
            "__________________________________________________________________________________________________\n",
            "Memory-2 (Memory)               (None, None, 768)    11796480    FeedForward-Normal-2[0][0]       \n",
            "                                                                 Input-Memory-Length[0][0]        \n",
            "__________________________________________________________________________________________________\n",
            "Embed-Segment-3 (RelativeSegmen [(None, 120, None, 2 1536        Input-Segment[0][0]              \n",
            "                                                                 Memory-2[0][0]                   \n",
            "__________________________________________________________________________________________________\n",
            "Relative-Bias-3 (RelativeBias)  [(768,), (768,)]     1536        Memory-2[0][0]                   \n",
            "__________________________________________________________________________________________________\n",
            "Segment-Bias-3 (SegmentBias)    (768,)               768         Memory-2[0][0]                   \n",
            "__________________________________________________________________________________________________\n",
            "Attention-3 (RelativePartialMul (None, 120, 768)     2949120     FeedForward-Normal-2[0][0]       \n",
            "                                                                 FeedForward-Normal-2[0][0]       \n",
            "                                                                 Memory-2[0][0]                   \n",
            "                                                                 Embed-Segment-3[0][0]            \n",
            "                                                                 Embed-Segment-3[0][1]            \n",
            "                                                                 Embed-Pos[0][0]                  \n",
            "                                                                 Relative-Bias-3[0][0]            \n",
            "                                                                 Relative-Bias-3[0][1]            \n",
            "                                                                 Segment-Bias-3[0][0]             \n",
            "                                                                 Permutation[0][0]                \n",
            "__________________________________________________________________________________________________\n",
            "Attention-Residual-3 (Add)      (None, 120, 768)     0           FeedForward-Normal-2[0][0]       \n",
            "                                                                 Attention-3[0][0]                \n",
            "__________________________________________________________________________________________________\n",
            "Attention-Normal-3 (LayerNormal (None, 120, 768)     1536        Attention-Residual-3[0][0]       \n",
            "__________________________________________________________________________________________________\n",
            "FeedForward-3 (FeedForward)     (None, 120, 768)     4722432     Attention-Normal-3[0][0]         \n",
            "__________________________________________________________________________________________________\n",
            "FeedForward-Residual-3 (Add)    (None, 120, 768)     0           Attention-Normal-3[0][0]         \n",
            "                                                                 FeedForward-3[0][0]              \n",
            "__________________________________________________________________________________________________\n",
            "FeedForward-Normal-3 (LayerNorm (None, 120, 768)     1536        FeedForward-Residual-3[0][0]     \n",
            "__________________________________________________________________________________________________\n",
            "Memory-3 (Memory)               (None, None, 768)    11796480    FeedForward-Normal-3[0][0]       \n",
            "                                                                 Input-Memory-Length[0][0]        \n",
            "__________________________________________________________________________________________________\n",
            "Embed-Segment-4 (RelativeSegmen [(None, 120, None, 2 1536        Input-Segment[0][0]              \n",
            "                                                                 Memory-3[0][0]                   \n",
            "__________________________________________________________________________________________________\n",
            "Relative-Bias-4 (RelativeBias)  [(768,), (768,)]     1536        Memory-3[0][0]                   \n",
            "__________________________________________________________________________________________________\n",
            "Segment-Bias-4 (SegmentBias)    (768,)               768         Memory-3[0][0]                   \n",
            "__________________________________________________________________________________________________\n",
            "Attention-4 (RelativePartialMul (None, 120, 768)     2949120     FeedForward-Normal-3[0][0]       \n",
            "                                                                 FeedForward-Normal-3[0][0]       \n",
            "                                                                 Memory-3[0][0]                   \n",
            "                                                                 Embed-Segment-4[0][0]            \n",
            "                                                                 Embed-Segment-4[0][1]            \n",
            "                                                                 Embed-Pos[0][0]                  \n",
            "                                                                 Relative-Bias-4[0][0]            \n",
            "                                                                 Relative-Bias-4[0][1]            \n",
            "                                                                 Segment-Bias-4[0][0]             \n",
            "                                                                 Permutation[0][0]                \n",
            "__________________________________________________________________________________________________\n",
            "Attention-Residual-4 (Add)      (None, 120, 768)     0           FeedForward-Normal-3[0][0]       \n",
            "                                                                 Attention-4[0][0]                \n",
            "__________________________________________________________________________________________________\n",
            "Attention-Normal-4 (LayerNormal (None, 120, 768)     1536        Attention-Residual-4[0][0]       \n",
            "__________________________________________________________________________________________________\n",
            "FeedForward-4 (FeedForward)     (None, 120, 768)     4722432     Attention-Normal-4[0][0]         \n",
            "__________________________________________________________________________________________________\n",
            "FeedForward-Residual-4 (Add)    (None, 120, 768)     0           Attention-Normal-4[0][0]         \n",
            "                                                                 FeedForward-4[0][0]              \n",
            "__________________________________________________________________________________________________\n",
            "FeedForward-Normal-4 (LayerNorm (None, 120, 768)     1536        FeedForward-Residual-4[0][0]     \n",
            "__________________________________________________________________________________________________\n",
            "Memory-4 (Memory)               (None, None, 768)    11796480    FeedForward-Normal-4[0][0]       \n",
            "                                                                 Input-Memory-Length[0][0]        \n",
            "__________________________________________________________________________________________________\n",
            "Embed-Segment-5 (RelativeSegmen [(None, 120, None, 2 1536        Input-Segment[0][0]              \n",
            "                                                                 Memory-4[0][0]                   \n",
            "__________________________________________________________________________________________________\n",
            "Relative-Bias-5 (RelativeBias)  [(768,), (768,)]     1536        Memory-4[0][0]                   \n",
            "__________________________________________________________________________________________________\n",
            "Segment-Bias-5 (SegmentBias)    (768,)               768         Memory-4[0][0]                   \n",
            "__________________________________________________________________________________________________\n",
            "Attention-5 (RelativePartialMul (None, 120, 768)     2949120     FeedForward-Normal-4[0][0]       \n",
            "                                                                 FeedForward-Normal-4[0][0]       \n",
            "                                                                 Memory-4[0][0]                   \n",
            "                                                                 Embed-Segment-5[0][0]            \n",
            "                                                                 Embed-Segment-5[0][1]            \n",
            "                                                                 Embed-Pos[0][0]                  \n",
            "                                                                 Relative-Bias-5[0][0]            \n",
            "                                                                 Relative-Bias-5[0][1]            \n",
            "                                                                 Segment-Bias-5[0][0]             \n",
            "                                                                 Permutation[0][0]                \n",
            "__________________________________________________________________________________________________\n",
            "Attention-Residual-5 (Add)      (None, 120, 768)     0           FeedForward-Normal-4[0][0]       \n",
            "                                                                 Attention-5[0][0]                \n",
            "__________________________________________________________________________________________________\n",
            "Attention-Normal-5 (LayerNormal (None, 120, 768)     1536        Attention-Residual-5[0][0]       \n",
            "__________________________________________________________________________________________________\n",
            "FeedForward-5 (FeedForward)     (None, 120, 768)     4722432     Attention-Normal-5[0][0]         \n",
            "__________________________________________________________________________________________________\n",
            "FeedForward-Residual-5 (Add)    (None, 120, 768)     0           Attention-Normal-5[0][0]         \n",
            "                                                                 FeedForward-5[0][0]              \n",
            "__________________________________________________________________________________________________\n",
            "FeedForward-Normal-5 (LayerNorm (None, 120, 768)     1536        FeedForward-Residual-5[0][0]     \n",
            "__________________________________________________________________________________________________\n",
            "Memory-5 (Memory)               (None, None, 768)    11796480    FeedForward-Normal-5[0][0]       \n",
            "                                                                 Input-Memory-Length[0][0]        \n",
            "__________________________________________________________________________________________________\n",
            "Embed-Segment-6 (RelativeSegmen [(None, 120, None, 2 1536        Input-Segment[0][0]              \n",
            "                                                                 Memory-5[0][0]                   \n",
            "__________________________________________________________________________________________________\n",
            "Relative-Bias-6 (RelativeBias)  [(768,), (768,)]     1536        Memory-5[0][0]                   \n",
            "__________________________________________________________________________________________________\n",
            "Segment-Bias-6 (SegmentBias)    (768,)               768         Memory-5[0][0]                   \n",
            "__________________________________________________________________________________________________\n",
            "Attention-6 (RelativePartialMul (None, 120, 768)     2949120     FeedForward-Normal-5[0][0]       \n",
            "                                                                 FeedForward-Normal-5[0][0]       \n",
            "                                                                 Memory-5[0][0]                   \n",
            "                                                                 Embed-Segment-6[0][0]            \n",
            "                                                                 Embed-Segment-6[0][1]            \n",
            "                                                                 Embed-Pos[0][0]                  \n",
            "                                                                 Relative-Bias-6[0][0]            \n",
            "                                                                 Relative-Bias-6[0][1]            \n",
            "                                                                 Segment-Bias-6[0][0]             \n",
            "                                                                 Permutation[0][0]                \n",
            "__________________________________________________________________________________________________\n",
            "Attention-Residual-6 (Add)      (None, 120, 768)     0           FeedForward-Normal-5[0][0]       \n",
            "                                                                 Attention-6[0][0]                \n",
            "__________________________________________________________________________________________________\n",
            "Attention-Normal-6 (LayerNormal (None, 120, 768)     1536        Attention-Residual-6[0][0]       \n",
            "__________________________________________________________________________________________________\n",
            "FeedForward-6 (FeedForward)     (None, 120, 768)     4722432     Attention-Normal-6[0][0]         \n",
            "__________________________________________________________________________________________________\n",
            "FeedForward-Residual-6 (Add)    (None, 120, 768)     0           Attention-Normal-6[0][0]         \n",
            "                                                                 FeedForward-6[0][0]              \n",
            "__________________________________________________________________________________________________\n",
            "FeedForward-Normal-6 (LayerNorm (None, 120, 768)     1536        FeedForward-Residual-6[0][0]     \n",
            "__________________________________________________________________________________________________\n",
            "Memory-6 (Memory)               (None, None, 768)    11796480    FeedForward-Normal-6[0][0]       \n",
            "                                                                 Input-Memory-Length[0][0]        \n",
            "__________________________________________________________________________________________________\n",
            "Embed-Segment-7 (RelativeSegmen [(None, 120, None, 2 1536        Input-Segment[0][0]              \n",
            "                                                                 Memory-6[0][0]                   \n",
            "__________________________________________________________________________________________________\n",
            "Relative-Bias-7 (RelativeBias)  [(768,), (768,)]     1536        Memory-6[0][0]                   \n",
            "__________________________________________________________________________________________________\n",
            "Segment-Bias-7 (SegmentBias)    (768,)               768         Memory-6[0][0]                   \n",
            "__________________________________________________________________________________________________\n",
            "Attention-7 (RelativePartialMul (None, 120, 768)     2949120     FeedForward-Normal-6[0][0]       \n",
            "                                                                 FeedForward-Normal-6[0][0]       \n",
            "                                                                 Memory-6[0][0]                   \n",
            "                                                                 Embed-Segment-7[0][0]            \n",
            "                                                                 Embed-Segment-7[0][1]            \n",
            "                                                                 Embed-Pos[0][0]                  \n",
            "                                                                 Relative-Bias-7[0][0]            \n",
            "                                                                 Relative-Bias-7[0][1]            \n",
            "                                                                 Segment-Bias-7[0][0]             \n",
            "                                                                 Permutation[0][0]                \n",
            "__________________________________________________________________________________________________\n",
            "Attention-Residual-7 (Add)      (None, 120, 768)     0           FeedForward-Normal-6[0][0]       \n",
            "                                                                 Attention-7[0][0]                \n",
            "__________________________________________________________________________________________________\n",
            "Attention-Normal-7 (LayerNormal (None, 120, 768)     1536        Attention-Residual-7[0][0]       \n",
            "__________________________________________________________________________________________________\n",
            "FeedForward-7 (FeedForward)     (None, 120, 768)     4722432     Attention-Normal-7[0][0]         \n",
            "__________________________________________________________________________________________________\n",
            "FeedForward-Residual-7 (Add)    (None, 120, 768)     0           Attention-Normal-7[0][0]         \n",
            "                                                                 FeedForward-7[0][0]              \n",
            "__________________________________________________________________________________________________\n",
            "FeedForward-Normal-7 (LayerNorm (None, 120, 768)     1536        FeedForward-Residual-7[0][0]     \n",
            "__________________________________________________________________________________________________\n",
            "Memory-7 (Memory)               (None, None, 768)    11796480    FeedForward-Normal-7[0][0]       \n",
            "                                                                 Input-Memory-Length[0][0]        \n",
            "__________________________________________________________________________________________________\n",
            "Embed-Segment-8 (RelativeSegmen [(None, 120, None, 2 1536        Input-Segment[0][0]              \n",
            "                                                                 Memory-7[0][0]                   \n",
            "__________________________________________________________________________________________________\n",
            "Relative-Bias-8 (RelativeBias)  [(768,), (768,)]     1536        Memory-7[0][0]                   \n",
            "__________________________________________________________________________________________________\n",
            "Segment-Bias-8 (SegmentBias)    (768,)               768         Memory-7[0][0]                   \n",
            "__________________________________________________________________________________________________\n",
            "Attention-8 (RelativePartialMul (None, 120, 768)     2949120     FeedForward-Normal-7[0][0]       \n",
            "                                                                 FeedForward-Normal-7[0][0]       \n",
            "                                                                 Memory-7[0][0]                   \n",
            "                                                                 Embed-Segment-8[0][0]            \n",
            "                                                                 Embed-Segment-8[0][1]            \n",
            "                                                                 Embed-Pos[0][0]                  \n",
            "                                                                 Relative-Bias-8[0][0]            \n",
            "                                                                 Relative-Bias-8[0][1]            \n",
            "                                                                 Segment-Bias-8[0][0]             \n",
            "                                                                 Permutation[0][0]                \n",
            "__________________________________________________________________________________________________\n",
            "Attention-Residual-8 (Add)      (None, 120, 768)     0           FeedForward-Normal-7[0][0]       \n",
            "                                                                 Attention-8[0][0]                \n",
            "__________________________________________________________________________________________________\n",
            "Attention-Normal-8 (LayerNormal (None, 120, 768)     1536        Attention-Residual-8[0][0]       \n",
            "__________________________________________________________________________________________________\n",
            "FeedForward-8 (FeedForward)     (None, 120, 768)     4722432     Attention-Normal-8[0][0]         \n",
            "__________________________________________________________________________________________________\n",
            "FeedForward-Residual-8 (Add)    (None, 120, 768)     0           Attention-Normal-8[0][0]         \n",
            "                                                                 FeedForward-8[0][0]              \n",
            "__________________________________________________________________________________________________\n",
            "FeedForward-Normal-8 (LayerNorm (None, 120, 768)     1536        FeedForward-Residual-8[0][0]     \n",
            "__________________________________________________________________________________________________\n",
            "Memory-8 (Memory)               (None, None, 768)    11796480    FeedForward-Normal-8[0][0]       \n",
            "                                                                 Input-Memory-Length[0][0]        \n",
            "__________________________________________________________________________________________________\n",
            "Embed-Segment-9 (RelativeSegmen [(None, 120, None, 2 1536        Input-Segment[0][0]              \n",
            "                                                                 Memory-8[0][0]                   \n",
            "__________________________________________________________________________________________________\n",
            "Relative-Bias-9 (RelativeBias)  [(768,), (768,)]     1536        Memory-8[0][0]                   \n",
            "__________________________________________________________________________________________________\n",
            "Segment-Bias-9 (SegmentBias)    (768,)               768         Memory-8[0][0]                   \n",
            "__________________________________________________________________________________________________\n",
            "Attention-9 (RelativePartialMul (None, 120, 768)     2949120     FeedForward-Normal-8[0][0]       \n",
            "                                                                 FeedForward-Normal-8[0][0]       \n",
            "                                                                 Memory-8[0][0]                   \n",
            "                                                                 Embed-Segment-9[0][0]            \n",
            "                                                                 Embed-Segment-9[0][1]            \n",
            "                                                                 Embed-Pos[0][0]                  \n",
            "                                                                 Relative-Bias-9[0][0]            \n",
            "                                                                 Relative-Bias-9[0][1]            \n",
            "                                                                 Segment-Bias-9[0][0]             \n",
            "                                                                 Permutation[0][0]                \n",
            "__________________________________________________________________________________________________\n",
            "Attention-Residual-9 (Add)      (None, 120, 768)     0           FeedForward-Normal-8[0][0]       \n",
            "                                                                 Attention-9[0][0]                \n",
            "__________________________________________________________________________________________________\n",
            "Attention-Normal-9 (LayerNormal (None, 120, 768)     1536        Attention-Residual-9[0][0]       \n",
            "__________________________________________________________________________________________________\n",
            "FeedForward-9 (FeedForward)     (None, 120, 768)     4722432     Attention-Normal-9[0][0]         \n",
            "__________________________________________________________________________________________________\n",
            "FeedForward-Residual-9 (Add)    (None, 120, 768)     0           Attention-Normal-9[0][0]         \n",
            "                                                                 FeedForward-9[0][0]              \n",
            "__________________________________________________________________________________________________\n",
            "FeedForward-Normal-9 (LayerNorm (None, 120, 768)     1536        FeedForward-Residual-9[0][0]     \n",
            "__________________________________________________________________________________________________\n",
            "Memory-9 (Memory)               (None, None, 768)    11796480    FeedForward-Normal-9[0][0]       \n",
            "                                                                 Input-Memory-Length[0][0]        \n",
            "__________________________________________________________________________________________________\n",
            "Embed-Segment-10 (RelativeSegme [(None, 120, None, 2 1536        Input-Segment[0][0]              \n",
            "                                                                 Memory-9[0][0]                   \n",
            "__________________________________________________________________________________________________\n",
            "Relative-Bias-10 (RelativeBias) [(768,), (768,)]     1536        Memory-9[0][0]                   \n",
            "__________________________________________________________________________________________________\n",
            "Segment-Bias-10 (SegmentBias)   (768,)               768         Memory-9[0][0]                   \n",
            "__________________________________________________________________________________________________\n",
            "Attention-10 (RelativePartialMu (None, 120, 768)     2949120     FeedForward-Normal-9[0][0]       \n",
            "                                                                 FeedForward-Normal-9[0][0]       \n",
            "                                                                 Memory-9[0][0]                   \n",
            "                                                                 Embed-Segment-10[0][0]           \n",
            "                                                                 Embed-Segment-10[0][1]           \n",
            "                                                                 Embed-Pos[0][0]                  \n",
            "                                                                 Relative-Bias-10[0][0]           \n",
            "                                                                 Relative-Bias-10[0][1]           \n",
            "                                                                 Segment-Bias-10[0][0]            \n",
            "                                                                 Permutation[0][0]                \n",
            "__________________________________________________________________________________________________\n",
            "Attention-Residual-10 (Add)     (None, 120, 768)     0           FeedForward-Normal-9[0][0]       \n",
            "                                                                 Attention-10[0][0]               \n",
            "__________________________________________________________________________________________________\n",
            "Attention-Normal-10 (LayerNorma (None, 120, 768)     1536        Attention-Residual-10[0][0]      \n",
            "__________________________________________________________________________________________________\n",
            "FeedForward-10 (FeedForward)    (None, 120, 768)     4722432     Attention-Normal-10[0][0]        \n",
            "__________________________________________________________________________________________________\n",
            "FeedForward-Residual-10 (Add)   (None, 120, 768)     0           Attention-Normal-10[0][0]        \n",
            "                                                                 FeedForward-10[0][0]             \n",
            "__________________________________________________________________________________________________\n",
            "FeedForward-Normal-10 (LayerNor (None, 120, 768)     1536        FeedForward-Residual-10[0][0]    \n",
            "__________________________________________________________________________________________________\n",
            "Memory-10 (Memory)              (None, None, 768)    11796480    FeedForward-Normal-10[0][0]      \n",
            "                                                                 Input-Memory-Length[0][0]        \n",
            "__________________________________________________________________________________________________\n",
            "Embed-Segment-11 (RelativeSegme [(None, 120, None, 2 1536        Input-Segment[0][0]              \n",
            "                                                                 Memory-10[0][0]                  \n",
            "__________________________________________________________________________________________________\n",
            "Relative-Bias-11 (RelativeBias) [(768,), (768,)]     1536        Memory-10[0][0]                  \n",
            "__________________________________________________________________________________________________\n",
            "Segment-Bias-11 (SegmentBias)   (768,)               768         Memory-10[0][0]                  \n",
            "__________________________________________________________________________________________________\n",
            "Attention-11 (RelativePartialMu (None, 120, 768)     2949120     FeedForward-Normal-10[0][0]      \n",
            "                                                                 FeedForward-Normal-10[0][0]      \n",
            "                                                                 Memory-10[0][0]                  \n",
            "                                                                 Embed-Segment-11[0][0]           \n",
            "                                                                 Embed-Segment-11[0][1]           \n",
            "                                                                 Embed-Pos[0][0]                  \n",
            "                                                                 Relative-Bias-11[0][0]           \n",
            "                                                                 Relative-Bias-11[0][1]           \n",
            "                                                                 Segment-Bias-11[0][0]            \n",
            "                                                                 Permutation[0][0]                \n",
            "__________________________________________________________________________________________________\n",
            "Attention-Residual-11 (Add)     (None, 120, 768)     0           FeedForward-Normal-10[0][0]      \n",
            "                                                                 Attention-11[0][0]               \n",
            "__________________________________________________________________________________________________\n",
            "Attention-Normal-11 (LayerNorma (None, 120, 768)     1536        Attention-Residual-11[0][0]      \n",
            "__________________________________________________________________________________________________\n",
            "FeedForward-11 (FeedForward)    (None, 120, 768)     4722432     Attention-Normal-11[0][0]        \n",
            "__________________________________________________________________________________________________\n",
            "FeedForward-Residual-11 (Add)   (None, 120, 768)     0           Attention-Normal-11[0][0]        \n",
            "                                                                 FeedForward-11[0][0]             \n",
            "__________________________________________________________________________________________________\n",
            "FeedForward-Normal-11 (LayerNor (None, 120, 768)     1536        FeedForward-Residual-11[0][0]    \n",
            "__________________________________________________________________________________________________\n",
            "Memory-11 (Memory)              (None, None, 768)    11796480    FeedForward-Normal-11[0][0]      \n",
            "                                                                 Input-Memory-Length[0][0]        \n",
            "__________________________________________________________________________________________________\n",
            "Embed-Segment-12 (RelativeSegme [(None, 120, None, 2 1536        Input-Segment[0][0]              \n",
            "                                                                 Memory-11[0][0]                  \n",
            "__________________________________________________________________________________________________\n",
            "Relative-Bias-12 (RelativeBias) [(768,), (768,)]     1536        Memory-11[0][0]                  \n",
            "__________________________________________________________________________________________________\n",
            "Segment-Bias-12 (SegmentBias)   (768,)               768         Memory-11[0][0]                  \n",
            "__________________________________________________________________________________________________\n",
            "Attention-12 (RelativePartialMu (None, 120, 768)     2949120     FeedForward-Normal-11[0][0]      \n",
            "                                                                 FeedForward-Normal-11[0][0]      \n",
            "                                                                 Memory-11[0][0]                  \n",
            "                                                                 Embed-Segment-12[0][0]           \n",
            "                                                                 Embed-Segment-12[0][1]           \n",
            "                                                                 Embed-Pos[0][0]                  \n",
            "                                                                 Relative-Bias-12[0][0]           \n",
            "                                                                 Relative-Bias-12[0][1]           \n",
            "                                                                 Segment-Bias-12[0][0]            \n",
            "                                                                 Permutation[0][0]                \n",
            "__________________________________________________________________________________________________\n",
            "Attention-Residual-12 (Add)     (None, 120, 768)     0           FeedForward-Normal-11[0][0]      \n",
            "                                                                 Attention-12[0][0]               \n",
            "__________________________________________________________________________________________________\n",
            "Attention-Normal-12 (LayerNorma (None, 120, 768)     1536        Attention-Residual-12[0][0]      \n",
            "__________________________________________________________________________________________________\n",
            "FeedForward-12 (FeedForward)    (None, 120, 768)     4722432     Attention-Normal-12[0][0]        \n",
            "__________________________________________________________________________________________________\n",
            "FeedForward-Residual-12 (Add)   (None, 120, 768)     0           Attention-Normal-12[0][0]        \n",
            "                                                                 FeedForward-12[0][0]             \n",
            "__________________________________________________________________________________________________\n",
            "FeedForward-Normal-12 (LayerNor (None, 120, 768)     1536        FeedForward-Residual-12[0][0]    \n",
            "__________________________________________________________________________________________________\n",
            "Extract (Extract)               (None, 768)          0           FeedForward-Normal-12[0][0]      \n",
            "__________________________________________________________________________________________________\n",
            "Dense (Dense)                   (None, 256)          196864      Extract[0][0]                    \n",
            "__________________________________________________________________________________________________\n",
            "Dropout (Dropout)               (None, 256)          0           Dense[0][0]                      \n",
            "__________________________________________________________________________________________________\n",
            "Sigmoid (Dense)                 (None, 1)            257         Dropout[0][0]                    \n",
            "==================================================================================================\n",
            "Total params: 258,472,449\n",
            "Trainable params: 116,914,689\n",
            "Non-trainable params: 141,557,760\n",
            "__________________________________________________________________________________________________\n"
          ],
          "name": "stdout"
        }
      ]
    },
    {
      "cell_type": "code",
      "metadata": {
        "id": "cDKeFoI3z0Dl",
        "colab_type": "code",
        "colab": {}
      },
      "source": [
        "model.load_weights('/content/drive/My Drive/Movie_Reviews/RNN/weigths.best.xlnet.hdf5')"
      ],
      "execution_count": 0,
      "outputs": []
    },
    {
      "cell_type": "code",
      "metadata": {
        "id": "yizoqycB4wCb",
        "colab_type": "code",
        "colab": {}
      },
      "source": [
        "# Read data\n",
        "class DataSequence(keras.utils.Sequence):\n",
        "\n",
        "    def __init__(self, x, y):\n",
        "        self.x = x\n",
        "        self.y = y\n",
        "\n",
        "    def __len__(self):\n",
        "        return (len(self.y) + BATCH_SIZE - 1) // BATCH_SIZE\n",
        "\n",
        "    def __getitem__(self, index):\n",
        "        s = slice(index * BATCH_SIZE, (index + 1) * BATCH_SIZE)\n",
        "        return [item[s] for item in self.x], self.y[s]"
      ],
      "execution_count": 0,
      "outputs": []
    },
    {
      "cell_type": "code",
      "metadata": {
        "id": "-Yg0Pc-dAjLC",
        "colab_type": "code",
        "colab": {}
      },
      "source": [
        "def generate_sequence(dataframe):\n",
        "  tokens = []\n",
        "  classes = []\n",
        "  for _, row in dataframe.iterrows():\n",
        "    text = row['reviews']\n",
        "    cls = row['pos_or_neg']\n",
        "    if not isinstance(text, str) or cls not in [0.0, 1.0]:\n",
        "      continue\n",
        "    encoded = tokenizer.encode(text)[:SEQ_LEN - 1] #Tokenize the sentence for XLNet and removes more than maximum length\n",
        "    encoded = [tokenizer.SYM_PAD] * (SEQ_LEN - 1 - len(encoded)) + encoded + [tokenizer.SYM_CLS] #Pads the sentence upto maximim length and adds the classifier token at the last\n",
        "    tokens.append(encoded)\n",
        "    classes.append(int(cls))\n",
        "  tokens, classes = np.array(tokens), np.array(classes)\n",
        "  segments = np.zeros_like(tokens)\n",
        "  segments[:, -1]=1 #Telling what is sentence and classifier symbol in segment encoding\n",
        "  lengths = np.zeros_like(tokens[:, :1])\n",
        "  return DataSequence([tokens, segments, lengths], classes)\n"
      ],
      "execution_count": 0,
      "outputs": []
    },
    {
      "cell_type": "code",
      "metadata": {
        "id": "r07KBvnxKR2T",
        "colab_type": "code",
        "colab": {}
      },
      "source": [
        "train_seq = generate_sequence(train_df)\n",
        "#valid_seq = generate_sequence(valid_df)\n",
        "test_seq = generate_sequence(test_df)"
      ],
      "execution_count": 0,
      "outputs": []
    },
    {
      "cell_type": "code",
      "metadata": {
        "id": "6PgK2dEzNTGj",
        "colab_type": "code",
        "outputId": "f18cc92a-77c7-47df-8b31-5e5c31cdd4ab",
        "colab": {
          "base_uri": "https://localhost:8080/",
          "height": 154
        }
      },
      "source": [
        "model.compile(optimizer=keras.optimizers.Adam(lr=1e-7), loss='binary_crossentropy', metrics=['accuracy'])"
      ],
      "execution_count": 16,
      "outputs": [
        {
          "output_type": "stream",
          "text": [
            "WARNING:tensorflow:From /usr/local/lib/python3.6/dist-packages/keras/optimizers.py:793: The name tf.train.Optimizer is deprecated. Please use tf.compat.v1.train.Optimizer instead.\n",
            "\n",
            "WARNING:tensorflow:From /usr/local/lib/python3.6/dist-packages/keras/backend/tensorflow_backend.py:3657: The name tf.log is deprecated. Please use tf.math.log instead.\n",
            "\n",
            "WARNING:tensorflow:From /usr/local/lib/python3.6/dist-packages/tensorflow_core/python/ops/nn_impl.py:183: where (from tensorflow.python.ops.array_ops) is deprecated and will be removed in a future version.\n",
            "Instructions for updating:\n",
            "Use tf.where in 2.0, which has the same broadcast rule as np.where\n"
          ],
          "name": "stdout"
        }
      ]
    },
    {
      "cell_type": "code",
      "metadata": {
        "id": "53AWJEuxpYzZ",
        "colab_type": "code",
        "colab": {}
      },
      "source": [
        "#Declaring filepath for saving weigths\n",
        "filepath = \"/content/drive/My Drive/Movie_Reviews/RNN/weigths.best.xlnet.hdf5\"\n",
        "\"\"\n",
        "#creating a checkpoint\n",
        "checkpoint = ModelCheckpoint(filepath,monitor='val_acc',verbose=1,save_best_only = True, mode = 'max')"
      ],
      "execution_count": 0,
      "outputs": []
    },
    {
      "cell_type": "code",
      "metadata": {
        "id": "ET0UhmR6NmWc",
        "colab_type": "code",
        "outputId": "7b7d397e-b3d7-42d6-c981-70dfca73c174",
        "colab": {
          "base_uri": "https://localhost:8080/",
          "height": 104
        }
      },
      "source": [
        "model.fit_generator(generator=train_seq, validation_data=test_seq, epochs=2, callbacks=[checkpoint])"
      ],
      "execution_count": 0,
      "outputs": [
        {
          "output_type": "stream",
          "text": [
            "WARNING:tensorflow:From /usr/local/lib/python3.6/dist-packages/keras/backend/tensorflow_backend.py:1033: The name tf.assign_add is deprecated. Please use tf.compat.v1.assign_add instead.\n",
            "\n",
            "Epoch 1/2\n",
            " 25/196 [==>...........................] - ETA: 49:47 - loss: 0.3003 - acc: 0.8778"
          ],
          "name": "stdout"
        }
      ]
    },
    {
      "cell_type": "code",
      "metadata": {
        "id": "K7Gchy0dONyf",
        "colab_type": "code",
        "colab": {}
      },
      "source": [
        "# Evaluation\n",
        "# Use dev set because the results of test set is unknown\n",
        "results = model.predict_generator(test_seq, verbose=True)#.argmax(axis=-1)"
      ],
      "execution_count": 0,
      "outputs": []
    },
    {
      "cell_type": "code",
      "metadata": {
        "id": "UrDmWVraaOXO",
        "colab_type": "code",
        "colab": {}
      },
      "source": [
        "temp = model.evaluate_generator(test_seq)"
      ],
      "execution_count": 0,
      "outputs": []
    },
    {
      "cell_type": "code",
      "metadata": {
        "id": "F_wLC9S5j-AD",
        "colab_type": "code",
        "outputId": "bd9dcb15-8d13-4759-92cc-1a6076643ea1",
        "colab": {
          "base_uri": "https://localhost:8080/",
          "height": 34
        }
      },
      "source": [
        "temp"
      ],
      "execution_count": 0,
      "outputs": [
        {
          "output_type": "execute_result",
          "data": {
            "text/plain": [
              "[0.4591212721157074, 0.800439999961853]"
            ]
          },
          "metadata": {
            "tags": []
          },
          "execution_count": 20
        }
      ]
    },
    {
      "cell_type": "code",
      "metadata": {
        "id": "C2wf1q9KXZkN",
        "colab_type": "code",
        "outputId": "c8192489-9383-4548-8d1e-9c9e2264f9f7",
        "colab": {
          "base_uri": "https://localhost:8080/",
          "height": 54
        }
      },
      "source": [
        "max(results), min(results)"
      ],
      "execution_count": 0,
      "outputs": [
        {
          "output_type": "execute_result",
          "data": {
            "text/plain": [
              "(array([0.9996497], dtype=float32), array([7.4893236e-05], dtype=float32))"
            ]
          },
          "metadata": {
            "tags": []
          },
          "execution_count": 25
        }
      ]
    },
    {
      "cell_type": "code",
      "metadata": {
        "id": "ZfGTiFlLQ3KX",
        "colab_type": "code",
        "outputId": "a3263b6c-a754-4a5d-b575-fd3f077b2634",
        "colab": {
          "base_uri": "https://localhost:8080/",
          "height": 34
        }
      },
      "source": [
        "from sklearn import metrics\n",
        "metrics.roc_auc_score(valid_df['pos_or_neg'], results)"
      ],
      "execution_count": 0,
      "outputs": [
        {
          "output_type": "execute_result",
          "data": {
            "text/plain": [
              "0.9567626093122797"
            ]
          },
          "metadata": {
            "tags": []
          },
          "execution_count": 26
        }
      ]
    },
    {
      "cell_type": "code",
      "metadata": {
        "id": "J4qVGkNDvwDW",
        "colab_type": "code",
        "colab": {}
      },
      "source": [
        "prediction = results.argmax(axis=-1)"
      ],
      "execution_count": 0,
      "outputs": []
    },
    {
      "cell_type": "code",
      "metadata": {
        "id": "pZFkLAsvkVzC",
        "colab_type": "code",
        "outputId": "892a8a6a-b6b1-40a6-c823-fa7a3b29b123",
        "colab": {
          "base_uri": "https://localhost:8080/",
          "height": 34
        }
      },
      "source": [
        "np.argmax(results, axis=-1)"
      ],
      "execution_count": 0,
      "outputs": [
        {
          "output_type": "execute_result",
          "data": {
            "text/plain": [
              "array([0, 0, 0, ..., 0, 0, 0])"
            ]
          },
          "metadata": {
            "tags": []
          },
          "execution_count": 30
        }
      ]
    },
    {
      "cell_type": "code",
      "metadata": {
        "id": "ryQMVRZ6kW3I",
        "colab_type": "code",
        "colab": {}
      },
      "source": [
        "prediction = results.copy()\n",
        "prediction[prediction>0.5] = 1 \n",
        "prediction[prediction<=0.5] = 0 "
      ],
      "execution_count": 0,
      "outputs": []
    },
    {
      "cell_type": "code",
      "metadata": {
        "id": "3VCMWHA2knB2",
        "colab_type": "code",
        "outputId": "c5b692b6-805d-46d0-be11-50b46e0a48db",
        "colab": {
          "base_uri": "https://localhost:8080/",
          "height": 161
        }
      },
      "source": [
        "metrics.accuracy_score(test_df['pos_or_neg'], prediction)"
      ],
      "execution_count": 0,
      "outputs": [
        {
          "output_type": "error",
          "ename": "NameError",
          "evalue": "ignored",
          "traceback": [
            "\u001b[0;31m---------------------------------------------------------------------------\u001b[0m",
            "\u001b[0;31mNameError\u001b[0m                                 Traceback (most recent call last)",
            "\u001b[0;32m<ipython-input-18-27db39eae9da>\u001b[0m in \u001b[0;36m<module>\u001b[0;34m()\u001b[0m\n\u001b[0;32m----> 1\u001b[0;31m \u001b[0mmetrics\u001b[0m\u001b[0;34m.\u001b[0m\u001b[0maccuracy_score\u001b[0m\u001b[0;34m(\u001b[0m\u001b[0mvalid_df\u001b[0m\u001b[0;34m[\u001b[0m\u001b[0;34m'pos_or_neg'\u001b[0m\u001b[0;34m]\u001b[0m\u001b[0;34m,\u001b[0m \u001b[0mprediction\u001b[0m\u001b[0;34m)\u001b[0m\u001b[0;34m\u001b[0m\u001b[0;34m\u001b[0m\u001b[0m\n\u001b[0m",
            "\u001b[0;31mNameError\u001b[0m: name 'prediction' is not defined"
          ]
        }
      ]
    }
  ]
}