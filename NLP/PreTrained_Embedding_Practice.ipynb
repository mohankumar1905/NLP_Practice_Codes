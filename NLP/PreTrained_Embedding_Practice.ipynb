{
  "nbformat": 4,
  "nbformat_minor": 0,
  "metadata": {
    "colab": {
      "name": "PreTrained_Embedding_Practice.ipynb",
      "provenance": []
    },
    "kernelspec": {
      "name": "python3",
      "display_name": "Python 3"
    }
  },
  "cells": [
    {
      "cell_type": "code",
      "metadata": {
        "id": "_dHdizTiTKSb",
        "colab_type": "code",
        "outputId": "4a405f41-b711-4079-ea90-45c445c38d1e",
        "colab": {
          "base_uri": "https://localhost:8080/",
          "height": 122
        }
      },
      "source": [
        "# Load the Drive helper and mount\n",
        "from google.colab import drive\n",
        "\n",
        "# This will prompt for authorization.\n",
        "drive.mount('/content/drive')"
      ],
      "execution_count": 0,
      "outputs": [
        {
          "output_type": "stream",
          "text": [
            "Go to this URL in a browser: https://accounts.google.com/o/oauth2/auth?client_id=947318989803-6bn6qk8qdgf4n4g3pfee6491hc0brc4i.apps.googleusercontent.com&redirect_uri=urn%3Aietf%3Awg%3Aoauth%3A2.0%3Aoob&scope=email%20https%3A%2F%2Fwww.googleapis.com%2Fauth%2Fdocs.test%20https%3A%2F%2Fwww.googleapis.com%2Fauth%2Fdrive%20https%3A%2F%2Fwww.googleapis.com%2Fauth%2Fdrive.photos.readonly%20https%3A%2F%2Fwww.googleapis.com%2Fauth%2Fpeopleapi.readonly&response_type=code\n",
            "\n",
            "Enter your authorization code:\n",
            "··········\n",
            "Mounted at /content/drive\n"
          ],
          "name": "stdout"
        }
      ]
    },
    {
      "cell_type": "code",
      "metadata": {
        "id": "2BE7PBzyTSap",
        "colab_type": "code",
        "outputId": "8a45fc52-3abb-441d-ed4c-319a82b7e9c1",
        "colab": {
          "base_uri": "https://localhost:8080/",
          "height": 34
        }
      },
      "source": [
        "\n",
        "from numpy import array\n",
        "from numpy import asarray\n",
        "from numpy import zeros\n",
        "import pandas as pd\n",
        "import csv\n",
        "from keras.preprocessing.text import Tokenizer\n",
        "from keras.preprocessing.sequence import pad_sequences\n",
        "from keras.models import Sequential\n",
        "from keras.layers import Dense\n",
        "from keras.layers import Flatten\n",
        "from keras.layers import Embedding\n"
      ],
      "execution_count": 0,
      "outputs": [
        {
          "output_type": "stream",
          "text": [
            "Using TensorFlow backend.\n"
          ],
          "name": "stderr"
        }
      ]
    },
    {
      "cell_type": "code",
      "metadata": {
        "id": "lwg0urjOVMBS",
        "colab_type": "code",
        "colab": {}
      },
      "source": [
        "# define documents\n",
        "docs = ['Well done!',\n",
        "\t\t'Good work',\n",
        "\t\t'Great effort',\n",
        "\t\t'nice work',\n",
        "\t\t'Excellent!',\n",
        "\t\t'Weak',\n",
        "\t\t'Poor effort!',\n",
        "\t\t'not good',\n",
        "\t\t'poor work',\n",
        "\t\t'Could have done better.']\n",
        "# define class labels\n",
        "labels = array([1,1,1,1,1,0,0,0,0,0])"
      ],
      "execution_count": 0,
      "outputs": []
    },
    {
      "cell_type": "code",
      "metadata": {
        "id": "JDh9XBH0VYlr",
        "colab_type": "code",
        "colab": {}
      },
      "source": [
        "t = Tokenizer()\n",
        "t.fit_on_texts(docs)"
      ],
      "execution_count": 0,
      "outputs": []
    },
    {
      "cell_type": "code",
      "metadata": {
        "id": "yTansfJnVzh2",
        "colab_type": "code",
        "colab": {}
      },
      "source": [
        "vocab_size = len(t.word_index)+1"
      ],
      "execution_count": 0,
      "outputs": []
    },
    {
      "cell_type": "code",
      "metadata": {
        "id": "Hu4TmXjgV6jm",
        "colab_type": "code",
        "outputId": "9537202f-d0f5-4a3c-a30c-715095356633",
        "colab": {
          "base_uri": "https://localhost:8080/",
          "height": 187
        }
      },
      "source": [
        "encoded_docs = t.texts_to_sequences(docs)\n",
        "encoded_docs"
      ],
      "execution_count": 0,
      "outputs": [
        {
          "output_type": "execute_result",
          "data": {
            "text/plain": [
              "[[6, 2],\n",
              " [3, 1],\n",
              " [7, 4],\n",
              " [8, 1],\n",
              " [9],\n",
              " [10],\n",
              " [5, 4],\n",
              " [11, 3],\n",
              " [5, 1],\n",
              " [12, 13, 2, 14]]"
            ]
          },
          "metadata": {
            "tags": []
          },
          "execution_count": 6
        }
      ]
    },
    {
      "cell_type": "code",
      "metadata": {
        "id": "nHHlxHIEWl0E",
        "colab_type": "code",
        "colab": {}
      },
      "source": [
        "max_len = 4\n",
        "padded_docs = pad_sequences(encoded_docs,maxlen=max_len,padding='post')"
      ],
      "execution_count": 0,
      "outputs": []
    },
    {
      "cell_type": "code",
      "metadata": {
        "id": "3I0PhMTRYGpO",
        "colab_type": "code",
        "outputId": "91a9234d-a139-495d-8679-f9d0821014ec",
        "colab": {
          "base_uri": "https://localhost:8080/",
          "height": 187
        }
      },
      "source": [
        "padded_docs"
      ],
      "execution_count": 0,
      "outputs": [
        {
          "output_type": "execute_result",
          "data": {
            "text/plain": [
              "array([[ 6,  2,  0,  0],\n",
              "       [ 3,  1,  0,  0],\n",
              "       [ 7,  4,  0,  0],\n",
              "       [ 8,  1,  0,  0],\n",
              "       [ 9,  0,  0,  0],\n",
              "       [10,  0,  0,  0],\n",
              "       [ 5,  4,  0,  0],\n",
              "       [11,  3,  0,  0],\n",
              "       [ 5,  1,  0,  0],\n",
              "       [12, 13,  2, 14]], dtype=int32)"
            ]
          },
          "metadata": {
            "tags": []
          },
          "execution_count": 8
        }
      ]
    },
    {
      "cell_type": "code",
      "metadata": {
        "id": "dUsvXnSpYInY",
        "colab_type": "code",
        "outputId": "1e276fa9-bba2-46b5-eae0-9f80a6ed42a0",
        "colab": {
          "base_uri": "https://localhost:8080/",
          "height": 272
        }
      },
      "source": [
        "!wget http://nlp.stanford.edu/data/glove.6B.zip\n",
        "!unzip -uq glove*.zip -d \"drive/My Drive/PreTrainedGloveVec\"\n",
        "!ls\n",
        "!pwd\n",
        "!rm glove.6B.200d.txt"
      ],
      "execution_count": 0,
      "outputs": [
        {
          "output_type": "stream",
          "text": [
            "--2019-03-26 09:52:12--  http://nlp.stanford.edu/data/glove.6B.zip\n",
            "Resolving nlp.stanford.edu (nlp.stanford.edu)... 171.64.67.140\n",
            "Connecting to nlp.stanford.edu (nlp.stanford.edu)|171.64.67.140|:80... connected.\n",
            "HTTP request sent, awaiting response... 302 Found\n",
            "Location: https://nlp.stanford.edu/data/glove.6B.zip [following]\n",
            "--2019-03-26 09:52:13--  https://nlp.stanford.edu/data/glove.6B.zip\n",
            "Connecting to nlp.stanford.edu (nlp.stanford.edu)|171.64.67.140|:443... connected.\n",
            "HTTP request sent, awaiting response... 200 OK\n",
            "Length: 862182613 (822M) [application/zip]\n",
            "Saving to: ‘glove.6B.zip’\n",
            "\n",
            "glove.6B.zip        100%[===================>] 822.24M  6.28MB/s    in 3m 50s  \n",
            "\n",
            "2019-03-26 09:56:03 (3.58 MB/s) - ‘glove.6B.zip’ saved [862182613/862182613]\n",
            "\n"
          ],
          "name": "stdout"
        }
      ]
    },
    {
      "cell_type": "code",
      "metadata": {
        "id": "a8ZoVt9ufwaY",
        "colab_type": "code",
        "colab": {}
      },
      "source": [
        "#File to Required Embedding Matrix\n",
        "embedding_matrix_200_loaded = pd.read_table(\"drive/My Drive/PreTrainedGloveVec/glove.6B.200d.txt\", sep=\" \", index_col=0, header=None, quoting=csv.QUOTE_NONE)\n",
        "embedding_matrix = zeros((vocab_size, 200))\n",
        "for word, i in t.word_index.items():\n",
        "\tembedding_vector = embedding_matrix_200_loaded.loc[word]\n",
        "\tif embedding_vector is not None:\n",
        "\t\tembedding_matrix[i] = asarray(embedding_vector)"
      ],
      "execution_count": 0,
      "outputs": []
    },
    {
      "cell_type": "code",
      "metadata": {
        "id": "iIAkRrJJ-ztm",
        "colab_type": "code",
        "outputId": "5901e5c0-aac2-45fc-bbbe-88f6639ce6cc",
        "colab": {
          "base_uri": "https://localhost:8080/",
          "height": 394
        }
      },
      "source": [
        "model = Sequential()\n",
        "e = Embedding(vocab_size, 200, weights=[embedding_matrix], input_length=4, trainable=False)\n",
        "model.add(e)\n",
        "model.add(Flatten())\n",
        "model.add(Dense(1, activation='sigmoid'))\n",
        "# compile the model\n",
        "model.compile(optimizer='adam', loss='binary_crossentropy', metrics=['acc'])\n",
        "# summarize the model\n",
        "print(model.summary())\n",
        "# fit the model\n",
        "model.fit(padded_docs, labels, epochs=50, verbose=0)\n",
        "# evaluate the model\n",
        "loss, accuracy = model.evaluate(padded_docs, labels, verbose=0)\n",
        "print('Accuracy: %f' % (accuracy*100))"
      ],
      "execution_count": 0,
      "outputs": [
        {
          "output_type": "stream",
          "text": [
            "WARNING:tensorflow:From /usr/local/lib/python3.6/dist-packages/tensorflow/python/framework/op_def_library.py:263: colocate_with (from tensorflow.python.framework.ops) is deprecated and will be removed in a future version.\n",
            "Instructions for updating:\n",
            "Colocations handled automatically by placer.\n",
            "_________________________________________________________________\n",
            "Layer (type)                 Output Shape              Param #   \n",
            "=================================================================\n",
            "embedding_1 (Embedding)      (None, 4, 200)            3000      \n",
            "_________________________________________________________________\n",
            "flatten_1 (Flatten)          (None, 800)               0         \n",
            "_________________________________________________________________\n",
            "dense_1 (Dense)              (None, 1)                 801       \n",
            "=================================================================\n",
            "Total params: 3,801\n",
            "Trainable params: 801\n",
            "Non-trainable params: 3,000\n",
            "_________________________________________________________________\n",
            "None\n",
            "WARNING:tensorflow:From /usr/local/lib/python3.6/dist-packages/tensorflow/python/ops/math_ops.py:3066: to_int32 (from tensorflow.python.ops.math_ops) is deprecated and will be removed in a future version.\n",
            "Instructions for updating:\n",
            "Use tf.cast instead.\n",
            "Accuracy: 100.000000\n"
          ],
          "name": "stdout"
        }
      ]
    },
    {
      "cell_type": "code",
      "metadata": {
        "id": "V3KrjUxZDqYI",
        "colab_type": "code",
        "outputId": "f01f135b-5f38-4ed7-d8ab-7fd34a209fae",
        "colab": {
          "base_uri": "https://localhost:8080/",
          "height": 187
        }
      },
      "source": [
        "docs"
      ],
      "execution_count": 0,
      "outputs": [
        {
          "output_type": "execute_result",
          "data": {
            "text/plain": [
              "['Well done!',\n",
              " 'Good work',\n",
              " 'Great effort',\n",
              " 'nice work',\n",
              " 'Excellent!',\n",
              " 'Weak',\n",
              " 'Poor effort!',\n",
              " 'not good',\n",
              " 'poor work',\n",
              " 'Could have done better.']"
            ]
          },
          "metadata": {
            "tags": []
          },
          "execution_count": 20
        }
      ]
    },
    {
      "cell_type": "code",
      "metadata": {
        "id": "jaSqJdJEsbn8",
        "colab_type": "code",
        "colab": {}
      },
      "source": [
        "from gensim.models import Word2Vec\n",
        "#model = Word2Vec(docs, min_count=2,size=3,workers=2,sg=1)"
      ],
      "execution_count": 0,
      "outputs": []
    },
    {
      "cell_type": "code",
      "metadata": {
        "id": "WqSC_r5FtSuF",
        "colab_type": "code",
        "outputId": "8dfc270a-4a43-4867-95e9-3bc78e770a0b",
        "colab": {
          "base_uri": "https://localhost:8080/",
          "height": 34
        }
      },
      "source": [
        "# summarize vocabulary size in model\n",
        "words = list(model.wv.vocab)\n",
        "print('Vocabulary size: %d' % len(words))"
      ],
      "execution_count": 0,
      "outputs": [
        {
          "output_type": "stream",
          "text": [
            "Vocabulary size: 16\n"
          ],
          "name": "stdout"
        }
      ]
    },
    {
      "cell_type": "code",
      "metadata": {
        "id": "PmcQc1bxtBTL",
        "colab_type": "code",
        "outputId": "74314f8c-3d71-4fed-d884-bc187b7a1c52",
        "colab": {
          "base_uri": "https://localhost:8080/",
          "height": 289
        }
      },
      "source": [
        "words"
      ],
      "execution_count": 0,
      "outputs": [
        {
          "output_type": "execute_result",
          "data": {
            "text/plain": [
              "['W',\n",
              " 'e',\n",
              " 'l',\n",
              " ' ',\n",
              " 'd',\n",
              " 'o',\n",
              " 'n',\n",
              " '!',\n",
              " 'G',\n",
              " 'w',\n",
              " 'r',\n",
              " 'k',\n",
              " 'a',\n",
              " 't',\n",
              " 'f',\n",
              " 'c']"
            ]
          },
          "metadata": {
            "tags": []
          },
          "execution_count": 37
        }
      ]
    },
    {
      "cell_type": "code",
      "metadata": {
        "id": "1J6Y9c-_ukAI",
        "colab_type": "code",
        "outputId": "a373fb79-ea92-40b2-c006-61767a5ccd3f",
        "colab": {
          "base_uri": "https://localhost:8080/",
          "height": 34
        }
      },
      "source": [
        "model.train(docs, total_examples=len(docs), epochs=10)"
      ],
      "execution_count": 0,
      "outputs": [
        {
          "output_type": "execute_result",
          "data": {
            "text/plain": [
              "(135, 1060)"
            ]
          },
          "metadata": {
            "tags": []
          },
          "execution_count": 38
        }
      ]
    },
    {
      "cell_type": "code",
      "metadata": {
        "id": "hnDE5p3E5nv0",
        "colab_type": "code",
        "outputId": "a98e896d-092e-41c1-950e-67ae45874edf",
        "colab": {
          "base_uri": "https://localhost:8080/",
          "height": 34
        }
      },
      "source": [
        "words = list(model.wv.vocab)\n",
        "print(words)"
      ],
      "execution_count": 0,
      "outputs": [
        {
          "output_type": "stream",
          "text": [
            "['W', 'e', 'l', ' ', 'd', 'o', 'n', '!', 'G', 'w', 'r', 'k', 'a', 't', 'f', 'c']\n"
          ],
          "name": "stdout"
        }
      ]
    },
    {
      "cell_type": "code",
      "metadata": {
        "id": "ZWljzagB6bQM",
        "colab_type": "code",
        "outputId": "2350012a-068d-45c2-ee9d-c13f58fac5f5",
        "colab": {
          "base_uri": "https://localhost:8080/",
          "height": 88
        }
      },
      "source": [
        "print(model['W'])"
      ],
      "execution_count": 0,
      "outputs": [
        {
          "output_type": "stream",
          "text": [
            "[ 0.07157493  0.01587445 -0.1180822 ]\n"
          ],
          "name": "stdout"
        },
        {
          "output_type": "stream",
          "text": [
            "/usr/local/lib/python3.6/dist-packages/ipykernel_launcher.py:1: DeprecationWarning: Call to deprecated `__getitem__` (Method will be removed in 4.0.0, use self.wv.__getitem__() instead).\n",
            "  \"\"\"Entry point for launching an IPython kernel.\n"
          ],
          "name": "stderr"
        }
      ]
    },
    {
      "cell_type": "code",
      "metadata": {
        "id": "VuTSiHiU7VTr",
        "colab_type": "code",
        "colab": {}
      },
      "source": [
        "model.wv.save_word2vec_format('drive/My Drive/model.txt', binary=False)\n"
      ],
      "execution_count": 0,
      "outputs": []
    },
    {
      "cell_type": "code",
      "metadata": {
        "id": "1zdoo9YC76Nh",
        "colab_type": "code",
        "outputId": "23246149-1f74-430b-8637-2f444e58f15a",
        "colab": {
          "base_uri": "https://localhost:8080/",
          "height": 323
        }
      },
      "source": [
        "f = open(\"model.txt\")\n",
        "f.read().split('\\n')"
      ],
      "execution_count": 0,
      "outputs": [
        {
          "output_type": "execute_result",
          "data": {
            "text/plain": [
              "['16 3',\n",
              " 'o 0.16601144 0.08561262 -0.06584102',\n",
              " 'e -0.085353225 -0.04919885 -0.025375495',\n",
              " '  0.13088718 -0.097947605 -0.16550545',\n",
              " 'r -0.012047082 0.0024761453 -0.12620772',\n",
              " 't -0.09419559 0.10935257 0.11428868',\n",
              " 'l -0.014555561 0.039651327 -0.14230782',\n",
              " 'd -0.012478611 -0.00930056 -0.09786297',\n",
              " 'n -0.07102371 -0.03520095 0.074346095',\n",
              " 'k 0.079257354 0.09521919 0.08769069',\n",
              " 'f 0.007855951 -0.05572672 0.1226674',\n",
              " '! -0.0063268426 0.15560475 0.12192204',\n",
              " 'w 0.024844185 -0.09503921 -0.0027861109',\n",
              " 'a 0.13526775 -0.06588608 -0.15385665',\n",
              " 'W 0.07157493 0.01587445 -0.1180822',\n",
              " 'G 0.029843388 -0.11805015 -0.024976857',\n",
              " 'c -0.07718378 -0.16658416 -0.08741212',\n",
              " '']"
            ]
          },
          "metadata": {
            "tags": []
          },
          "execution_count": 49
        }
      ]
    },
    {
      "cell_type": "code",
      "metadata": {
        "id": "2uqx3gu48NrG",
        "colab_type": "code",
        "outputId": "ff5a37c1-f2cf-48f2-d471-ac81cbf5e3f5",
        "colab": {
          "base_uri": "https://localhost:8080/",
          "height": 343
        }
      },
      "source": [
        "model[model.wv.vocab]"
      ],
      "execution_count": 0,
      "outputs": [
        {
          "output_type": "stream",
          "text": [
            "/usr/local/lib/python3.6/dist-packages/ipykernel_launcher.py:1: DeprecationWarning: Call to deprecated `__getitem__` (Method will be removed in 4.0.0, use self.wv.__getitem__() instead).\n",
            "  \"\"\"Entry point for launching an IPython kernel.\n"
          ],
          "name": "stderr"
        },
        {
          "output_type": "execute_result",
          "data": {
            "text/plain": [
              "array([[ 0.07157493,  0.01587445, -0.1180822 ],\n",
              "       [-0.08535323, -0.04919885, -0.02537549],\n",
              "       [-0.01455556,  0.03965133, -0.14230782],\n",
              "       [ 0.13088718, -0.0979476 , -0.16550545],\n",
              "       [-0.01247861, -0.00930056, -0.09786297],\n",
              "       [ 0.16601144,  0.08561262, -0.06584102],\n",
              "       [-0.07102371, -0.03520095,  0.0743461 ],\n",
              "       [-0.00632684,  0.15560475,  0.12192204],\n",
              "       [ 0.02984339, -0.11805015, -0.02497686],\n",
              "       [ 0.02484418, -0.09503921, -0.00278611],\n",
              "       [-0.01204708,  0.00247615, -0.12620772],\n",
              "       [ 0.07925735,  0.09521919,  0.08769069],\n",
              "       [ 0.13526775, -0.06588608, -0.15385665],\n",
              "       [-0.09419559,  0.10935257,  0.11428868],\n",
              "       [ 0.00785595, -0.05572672,  0.1226674 ],\n",
              "       [-0.07718378, -0.16658416, -0.08741212]], dtype=float32)"
            ]
          },
          "metadata": {
            "tags": []
          },
          "execution_count": 50
        }
      ]
    },
    {
      "cell_type": "code",
      "metadata": {
        "id": "qTh_WqIB8OjN",
        "colab_type": "code",
        "outputId": "0b590e74-904d-4efe-c9ba-a329b86c0e89",
        "colab": {
          "base_uri": "https://localhost:8080/",
          "height": 547
        }
      },
      "source": [
        "# define training data\n",
        "sentences = [['this', 'is', 'the', 'first', 'sentence', 'for', 'word2vec'],\n",
        "\t\t\t['this', 'is', 'the', 'second', 'sentence'],\n",
        "\t\t\t['yet', 'another', 'sentence'],\n",
        "\t\t\t['one', 'more', 'sentence'],\n",
        "\t\t\t['and', 'the', 'final', 'sentence']]\n",
        "# train model\n",
        "model = Word2Vec(sentences, min_count=1)\n",
        "# summarize the loaded model\n",
        "print(model)\n",
        "# summarize vocabulary\n",
        "words = list(model.wv.vocab)\n",
        "print(words)\n",
        "# access vector for one word\n",
        "print(model['sentence'])\n",
        "# save model\n",
        "model.save('drive/My Drive/model.bin')\n",
        "# load model\n",
        "new_model = Word2Vec.load('drive/My Drive/model.bin')\n",
        "print(new_model)"
      ],
      "execution_count": 0,
      "outputs": [
        {
          "output_type": "stream",
          "text": [
            "Word2Vec(vocab=14, size=100, alpha=0.025)\n",
            "['this', 'is', 'the', 'first', 'sentence', 'for', 'word2vec', 'second', 'yet', 'another', 'one', 'more', 'and', 'final']\n",
            "[ 2.0021577e-03  1.1767276e-03 -4.8685959e-04  4.0138788e-03\n",
            "  2.0246159e-03 -4.5083119e-03 -1.7899695e-03  1.5989923e-03\n",
            " -2.1147723e-03 -2.0247502e-03 -2.6409226e-03 -4.9665896e-03\n",
            " -2.8930365e-03  1.5060665e-03  4.8331516e-03 -4.9222521e-03\n",
            " -4.9345689e-03 -3.8198475e-03  2.0167439e-03  3.9005089e-03\n",
            " -4.9091275e-03 -4.9269944e-03  4.5096376e-03  1.2305533e-03\n",
            " -2.9920300e-03  1.0258644e-03  1.2583132e-03 -1.6352446e-03\n",
            " -2.8725728e-06  1.2228074e-03  2.4809893e-03 -2.0063908e-03\n",
            " -4.7322214e-03 -3.9184294e-03  2.7595372e-03  3.5574725e-03\n",
            "  4.6200687e-03  1.8202090e-03  7.6989172e-04  1.5749696e-03\n",
            " -4.4854204e-03 -4.4126301e-03  4.7863969e-03  1.2066915e-03\n",
            " -4.2836536e-03  4.5555751e-03  3.8166514e-03  1.7631321e-03\n",
            "  2.8800410e-03 -2.2091288e-03  1.6481306e-03 -1.7723715e-03\n",
            "  4.6610393e-04 -2.4996332e-03 -4.4883019e-03 -3.5630034e-03\n",
            " -2.7316737e-03 -1.1930622e-03 -1.1608771e-03  3.4813704e-03\n",
            "  7.0634770e-04  3.4704919e-03 -4.7482023e-04 -2.9862113e-03\n",
            "  2.1539287e-04 -3.7616170e-03 -3.3791170e-03 -3.5476510e-03\n",
            " -3.9481237e-03  3.8094572e-03  3.8324189e-03 -3.9187390e-03\n",
            "  1.6228844e-03  1.8559797e-03 -3.0552733e-03  4.9866079e-03\n",
            " -3.2342088e-03  4.5088031e-03 -3.4865553e-03 -4.5874743e-03\n",
            " -2.2461484e-04  7.4645435e-04 -2.6041500e-03  2.3943058e-03\n",
            " -1.8072226e-03  2.5307143e-03 -8.5383700e-04 -3.2938842e-03\n",
            " -3.1324141e-03  4.6043494e-03 -3.0957011e-03 -1.8185953e-03\n",
            " -3.1586704e-03 -2.6110897e-03 -4.3651904e-03 -2.3605663e-03\n",
            "  8.8342297e-04  4.2678346e-03 -9.2481548e-04  8.0129999e-04]\n",
            "Word2Vec(vocab=14, size=100, alpha=0.025)\n"
          ],
          "name": "stdout"
        },
        {
          "output_type": "stream",
          "text": [
            "/usr/local/lib/python3.6/dist-packages/ipykernel_launcher.py:14: DeprecationWarning: Call to deprecated `__getitem__` (Method will be removed in 4.0.0, use self.wv.__getitem__() instead).\n",
            "  \n"
          ],
          "name": "stderr"
        }
      ]
    },
    {
      "cell_type": "code",
      "metadata": {
        "id": "nmSTDUu7_sDV",
        "colab_type": "code",
        "outputId": "a1c86653-6fed-4ea0-c63c-2b5d5d15e0d5",
        "colab": {
          "base_uri": "https://localhost:8080/",
          "height": 374
        }
      },
      "source": [
        "new_model.wv['and']"
      ],
      "execution_count": 0,
      "outputs": [
        {
          "output_type": "execute_result",
          "data": {
            "text/plain": [
              "array([-0.00405814, -0.00099714, -0.00242968,  0.00063693, -0.00058246,\n",
              "       -0.00173328, -0.00157168,  0.00288855,  0.00462457, -0.00450954,\n",
              "        0.00060216,  0.00347092, -0.00022496,  0.00449333,  0.00211608,\n",
              "       -0.0023389 ,  0.00429818, -0.0005854 ,  0.00394441, -0.00173315,\n",
              "       -0.00089071, -0.00467051, -0.0006578 ,  0.00233846, -0.00373957,\n",
              "       -0.00164598,  0.00016287,  0.00155444, -0.00371833, -0.00074708,\n",
              "        0.00326871, -0.00439669,  0.00133605, -0.00163115, -0.00227549,\n",
              "       -0.00449238, -0.00112025, -0.00294652, -0.00318599, -0.00218444,\n",
              "        0.00056363,  0.00434647,  0.00247085,  0.00415618, -0.00077819,\n",
              "       -0.00318875, -0.00310867,  0.00375308,  0.00351412, -0.00453365,\n",
              "       -0.00359887,  0.00251142, -0.00429069, -0.00023212, -0.00333932,\n",
              "        0.00213613, -0.00342835,  0.00335315,  0.00142852, -0.00145421,\n",
              "       -0.00013683, -0.00352884,  0.00241563,  0.00286775, -0.00281557,\n",
              "        0.00087539, -0.00215191,  0.00437363, -0.00069822,  0.00307405,\n",
              "        0.00453595,  0.0047359 ,  0.00382589,  0.00240958, -0.00018912,\n",
              "       -0.0013041 ,  0.00191268,  0.00234628, -0.00117389,  0.00220337,\n",
              "       -0.00143358,  0.00062876,  0.00175861,  0.00425391,  0.00342196,\n",
              "       -0.00491076,  0.00290755, -0.00118496,  0.0003358 , -0.00437399,\n",
              "        0.00259413, -0.00218891, -0.00272329,  0.00356572,  0.00382692,\n",
              "        0.00320604,  0.00085081,  0.00099736, -0.00286387, -0.00126737],\n",
              "      dtype=float32)"
            ]
          },
          "metadata": {
            "tags": []
          },
          "execution_count": 53
        }
      ]
    }
  ]
}