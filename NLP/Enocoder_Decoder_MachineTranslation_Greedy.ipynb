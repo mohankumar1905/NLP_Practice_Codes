{
 "cells": [
  {
   "cell_type": "code",
   "execution_count": 0,
   "metadata": {
    "colab": {
     "base_uri": "https://localhost:8080/",
     "height": 34
    },
    "colab_type": "code",
    "executionInfo": {
     "elapsed": 1582,
     "status": "ok",
     "timestamp": 1558511056099,
     "user": {
      "displayName": "Mohankumar Balasubramaniyam",
      "photoUrl": "https://lh4.googleusercontent.com/-WDGyxwVw0Dw/AAAAAAAAAAI/AAAAAAAAMXg/s0XKgKv-dN8/s64/photo.jpg",
      "userId": "03872728872081242131"
     },
     "user_tz": -330
    },
    "id": "N7vahz90TImD",
    "outputId": "b415fed3-c8ec-48cf-9547-376f25639126"
   },
   "outputs": [
    {
     "name": "stderr",
     "output_type": "stream",
     "text": [
      "Using TensorFlow backend.\n"
     ]
    }
   ],
   "source": [
    "import pandas as pd\n",
    "import numpy as np\n",
    "import string\n",
    "import re\n",
    "from unicodedata import normalize\n",
    "from matplotlib import pyplot as plt\n",
    "from keras.preprocessing.text import Tokenizer\n",
    "from keras.preprocessing.sequence import pad_sequences\n",
    "from keras.utils import to_categorical\n",
    "from keras.utils.vis_utils import plot_model\n",
    "from keras.models import Sequential\n",
    "from keras.layers import LSTM\n",
    "from keras.layers import Dense\n",
    "from keras.layers import Embedding\n",
    "from keras.layers import RepeatVector\n",
    "from keras.layers import TimeDistributed\n",
    "from keras.callbacks import ModelCheckpoint"
   ]
  },
  {
   "cell_type": "code",
   "execution_count": 0,
   "metadata": {
    "colab": {
     "base_uri": "https://localhost:8080/",
     "height": 71
    },
    "colab_type": "code",
    "executionInfo": {
     "elapsed": 2970,
     "status": "ok",
     "timestamp": 1558511088409,
     "user": {
      "displayName": "Mohankumar Balasubramaniyam",
      "photoUrl": "https://lh4.googleusercontent.com/-WDGyxwVw0Dw/AAAAAAAAAAI/AAAAAAAAMXg/s0XKgKv-dN8/s64/photo.jpg",
      "userId": "03872728872081242131"
     },
     "user_tz": -330
    },
    "id": "N00-Z3d1TyMZ",
    "outputId": "8dd06509-5f11-41b9-9fce-7db4fac84799"
   },
   "outputs": [
    {
     "name": "stderr",
     "output_type": "stream",
     "text": [
      "/usr/local/lib/python3.6/dist-packages/ipykernel_launcher.py:1: ParserWarning: Falling back to the 'python' engine because the 'c' engine does not support regex separators (separators > 1 char and different from '\\s+' are interpreted as regex); you can avoid this warning by specifying engine='python'.\n",
      "  \"\"\"Entry point for launching an IPython kernel.\n"
     ]
    }
   ],
   "source": [
    "df = pd.read_csv(\"/content/drive/My Drive/Deep Learning/deueng/deu.txt\",encoding='utf-8', delimiter = r'\\t', header=None)"
   ]
  },
  {
   "cell_type": "code",
   "execution_count": 0,
   "metadata": {
    "colab": {},
    "colab_type": "code",
    "id": "WoIKFt_aUY5E"
   },
   "outputs": [],
   "source": [
    "df.columns = ['English', 'German']"
   ]
  },
  {
   "cell_type": "code",
   "execution_count": 0,
   "metadata": {
    "colab": {},
    "colab_type": "code",
    "id": "GyIfoVqaZlD-"
   },
   "outputs": [],
   "source": [
    "df['German'] = df['German'].str.normalize('NFKD').str.encode('ascii', errors='ignore').str.decode('utf-8')"
   ]
  },
  {
   "cell_type": "code",
   "execution_count": 0,
   "metadata": {
    "colab": {},
    "colab_type": "code",
    "id": "pmPdieriaNE1"
   },
   "outputs": [],
   "source": [
    "df['English']  = df['English'].str.replace(\"won't\",\"will not\")\n",
    "df['English']  = df['English'].str.replace(\"ain't\",\"am not\")\n",
    "df['English']  = df['English'].str.replace(\"'s\",\" is\")\n",
    "df['English']  = df['English'].str.replace(\"'m\",\" am\")\n",
    "df['English']  = df['English'].str.replace(\"'re'\",\" are\")\n",
    "df['English']  = df['English'].str.replace(\"can't\",\"can not\")\n",
    "df['English']  = df['English'].str.replace(\"'ll\",\" will\")\n",
    "df['English']  = df['English'].str.replace(\"n't\",\" not\")"
   ]
  },
  {
   "cell_type": "code",
   "execution_count": 0,
   "metadata": {
    "colab": {},
    "colab_type": "code",
    "id": "RLGm03TOeVn4"
   },
   "outputs": [],
   "source": [
    "df['German'] = df['German'].str.replace(\"'s\",\" es\")"
   ]
  },
  {
   "cell_type": "code",
   "execution_count": 0,
   "metadata": {
    "colab": {},
    "colab_type": "code",
    "id": "TFCgIZtrkjR5"
   },
   "outputs": [],
   "source": [
    "df['English'] = df['English'].map(lambda x: x.lower())\n",
    "df['German'] = df['German'].map(lambda x: x.lower())"
   ]
  },
  {
   "cell_type": "code",
   "execution_count": 0,
   "metadata": {
    "colab": {},
    "colab_type": "code",
    "id": "qyXaunHhpAFz"
   },
   "outputs": [],
   "source": [
    "df['English'] = df['English'].apply(lambda x: re.sub('[^a-zA-z0-9\\s]','',x)) #removing all charecters except alphabets\n",
    "df['English'] = df['English'].apply(lambda x: re.sub(r'\\s+',' ',x)) #removing extra spaces\n",
    "df['English'] = df['English'].map(lambda x: ' '.join(word for word in x.split() if len(word)>1)) #removing single charecters'"
   ]
  },
  {
   "cell_type": "code",
   "execution_count": 0,
   "metadata": {
    "colab": {},
    "colab_type": "code",
    "id": "Lbc3L8kqp4xH"
   },
   "outputs": [],
   "source": [
    "df['German'] = df['German'].apply(lambda x: re.sub('[^a-zA-z0-9\\s]','',x)) #removing all charecters except alphabets\n",
    "df['German'] = df['German'].apply(lambda x: re.sub(r'\\s+',' ',x)) #removing extra spaces\n",
    "df['German'] = df['German'].map(lambda x: ' '.join(word for word in x.split() if len(word)>1)) #removing single charecters'"
   ]
  },
  {
   "cell_type": "code",
   "execution_count": 0,
   "metadata": {
    "colab": {
     "base_uri": "https://localhost:8080/",
     "height": 34
    },
    "colab_type": "code",
    "executionInfo": {
     "elapsed": 3872,
     "status": "ok",
     "timestamp": 1558511097265,
     "user": {
      "displayName": "Mohankumar Balasubramaniyam",
      "photoUrl": "https://lh4.googleusercontent.com/-WDGyxwVw0Dw/AAAAAAAAAAI/AAAAAAAAMXg/s0XKgKv-dN8/s64/photo.jpg",
      "userId": "03872728872081242131"
     },
     "user_tz": -330
    },
    "id": "6rXoLcNqp8QP",
    "outputId": "5d032ba4-dbb4-4087-dab6-e27e2b7d5227"
   },
   "outputs": [
    {
     "data": {
      "text/plain": [
       "'call 110 right now'"
      ]
     },
     "execution_count": 11,
     "metadata": {
      "tags": []
     },
     "output_type": "execute_result"
    }
   ],
   "source": [
    "df['English'][22519]"
   ]
  },
  {
   "cell_type": "code",
   "execution_count": 0,
   "metadata": {
    "colab": {
     "base_uri": "https://localhost:8080/",
     "height": 34
    },
    "colab_type": "code",
    "executionInfo": {
     "elapsed": 3315,
     "status": "ok",
     "timestamp": 1558511097267,
     "user": {
      "displayName": "Mohankumar Balasubramaniyam",
      "photoUrl": "https://lh4.googleusercontent.com/-WDGyxwVw0Dw/AAAAAAAAAAI/AAAAAAAAMXg/s0XKgKv-dN8/s64/photo.jpg",
      "userId": "03872728872081242131"
     },
     "user_tz": -330
    },
    "id": "GEzAWJy8fkmt",
    "outputId": "2814eae7-f5be-4d0e-eead-5c4c4e687a5d"
   },
   "outputs": [
    {
     "data": {
      "text/plain": [
       "(192881, 2)"
      ]
     },
     "execution_count": 12,
     "metadata": {
      "tags": []
     },
     "output_type": "execute_result"
    }
   ],
   "source": [
    "df.shape"
   ]
  },
  {
   "cell_type": "code",
   "execution_count": 0,
   "metadata": {
    "colab": {},
    "colab_type": "code",
    "id": "8uDLBcJjvwRa"
   },
   "outputs": [],
   "source": [
    "df = df[0:10000]"
   ]
  },
  {
   "cell_type": "code",
   "execution_count": 0,
   "metadata": {
    "colab": {},
    "colab_type": "code",
    "id": "IAS7Z605wQl_"
   },
   "outputs": [],
   "source": [
    "df_train = df[:9000]\n",
    "df_test = df[9000:]"
   ]
  },
  {
   "cell_type": "code",
   "execution_count": 0,
   "metadata": {
    "colab": {
     "base_uri": "https://localhost:8080/",
     "height": 51
    },
    "colab_type": "code",
    "executionInfo": {
     "elapsed": 929,
     "status": "ok",
     "timestamp": 1558511103798,
     "user": {
      "displayName": "Mohankumar Balasubramaniyam",
      "photoUrl": "https://lh4.googleusercontent.com/-WDGyxwVw0Dw/AAAAAAAAAAI/AAAAAAAAMXg/s0XKgKv-dN8/s64/photo.jpg",
      "userId": "03872728872081242131"
     },
     "user_tz": -330
    },
    "id": "PMAkWobrrnQb",
    "outputId": "3e2047b3-c6dd-48f9-b293-7002b3e3adcb"
   },
   "outputs": [
    {
     "name": "stdout",
     "output_type": "stream",
     "text": [
      "2205\n",
      "5\n"
     ]
    }
   ],
   "source": [
    "english_tokenizer = Tokenizer()\n",
    "english_tokenizer.fit_on_texts(df['English'])\n",
    "eng_vocab_size = len(english_tokenizer.word_index)+1\n",
    "print (eng_vocab_size)\n",
    "print (max([len(x) for x in df['English'].str.split()]))"
   ]
  },
  {
   "cell_type": "code",
   "execution_count": 0,
   "metadata": {
    "colab": {},
    "colab_type": "code",
    "id": "Y8Zq1Axis3qx"
   },
   "outputs": [],
   "source": [
    "eng_max_len = (max([len(x) for x in df['English'].str.split()]))"
   ]
  },
  {
   "cell_type": "code",
   "execution_count": 0,
   "metadata": {
    "colab": {
     "base_uri": "https://localhost:8080/",
     "height": 51
    },
    "colab_type": "code",
    "executionInfo": {
     "elapsed": 945,
     "status": "ok",
     "timestamp": 1558511107903,
     "user": {
      "displayName": "Mohankumar Balasubramaniyam",
      "photoUrl": "https://lh4.googleusercontent.com/-WDGyxwVw0Dw/AAAAAAAAAAI/AAAAAAAAMXg/s0XKgKv-dN8/s64/photo.jpg",
      "userId": "03872728872081242131"
     },
     "user_tz": -330
    },
    "id": "BuMjIzVPuKpJ",
    "outputId": "dcb62c75-d222-4722-9f75-372e69ff89a1"
   },
   "outputs": [
    {
     "name": "stdout",
     "output_type": "stream",
     "text": [
      "3565\n",
      "10\n"
     ]
    }
   ],
   "source": [
    "german_tokenizer = Tokenizer()\n",
    "german_tokenizer.fit_on_texts(df['German'])\n",
    "german_vocab_size = len(german_tokenizer.word_index)+1\n",
    "print (german_vocab_size)\n",
    "print (max([len(x) for x in df['German'].str.split()]))"
   ]
  },
  {
   "cell_type": "code",
   "execution_count": 0,
   "metadata": {
    "colab": {},
    "colab_type": "code",
    "id": "hIvwvSE8s9EO"
   },
   "outputs": [],
   "source": [
    "german_max_len = (max([len(x) for x in df['German'].str.split()]))"
   ]
  },
  {
   "cell_type": "code",
   "execution_count": 0,
   "metadata": {
    "colab": {},
    "colab_type": "code",
    "id": "iY-DM0wMgxBO"
   },
   "outputs": [],
   "source": [
    "trainX = german_tokenizer.texts_to_sequences(df_train['German'])\n",
    "trainX = pad_sequences(trainX, maxlen=german_max_len, padding='post')"
   ]
  },
  {
   "cell_type": "code",
   "execution_count": 0,
   "metadata": {
    "colab": {
     "base_uri": "https://localhost:8080/",
     "height": 34
    },
    "colab_type": "code",
    "executionInfo": {
     "elapsed": 1044,
     "status": "ok",
     "timestamp": 1558511113653,
     "user": {
      "displayName": "Mohankumar Balasubramaniyam",
      "photoUrl": "https://lh4.googleusercontent.com/-WDGyxwVw0Dw/AAAAAAAAAAI/AAAAAAAAMXg/s0XKgKv-dN8/s64/photo.jpg",
      "userId": "03872728872081242131"
     },
     "user_tz": -330
    },
    "id": "yamkBJlZxGGx",
    "outputId": "76dc1e13-d735-4763-d18e-bc9d85d48a03"
   },
   "outputs": [
    {
     "data": {
      "text/plain": [
       "(9000, 10)"
      ]
     },
     "execution_count": 20,
     "metadata": {
      "tags": []
     },
     "output_type": "execute_result"
    }
   ],
   "source": [
    "trainX.shape"
   ]
  },
  {
   "cell_type": "code",
   "execution_count": 0,
   "metadata": {
    "colab": {},
    "colab_type": "code",
    "id": "AksYjEzff2a5"
   },
   "outputs": [],
   "source": [
    "trainY = english_tokenizer.texts_to_sequences(df_train['English'])\n",
    "trainY = pad_sequences(trainY, maxlen=eng_max_len, padding='post')"
   ]
  },
  {
   "cell_type": "code",
   "execution_count": 0,
   "metadata": {
    "colab": {
     "base_uri": "https://localhost:8080/",
     "height": 34
    },
    "colab_type": "code",
    "executionInfo": {
     "elapsed": 1126,
     "status": "ok",
     "timestamp": 1558511118288,
     "user": {
      "displayName": "Mohankumar Balasubramaniyam",
      "photoUrl": "https://lh4.googleusercontent.com/-WDGyxwVw0Dw/AAAAAAAAAAI/AAAAAAAAMXg/s0XKgKv-dN8/s64/photo.jpg",
      "userId": "03872728872081242131"
     },
     "user_tz": -330
    },
    "id": "ePDA9c0EsGSM",
    "outputId": "66a11e30-6aeb-4f02-cf7d-b8165cc4375a"
   },
   "outputs": [
    {
     "data": {
      "text/plain": [
       "(9000, 5)"
      ]
     },
     "execution_count": 22,
     "metadata": {
      "tags": []
     },
     "output_type": "execute_result"
    }
   ],
   "source": [
    "trainY.shape"
   ]
  },
  {
   "cell_type": "code",
   "execution_count": 0,
   "metadata": {
    "colab": {},
    "colab_type": "code",
    "id": "bz7W4tDgtefQ"
   },
   "outputs": [],
   "source": [
    "eng_max_len = (max([len(x) for x in df['English'].str.split()]))"
   ]
  },
  {
   "cell_type": "code",
   "execution_count": 0,
   "metadata": {
    "colab": {},
    "colab_type": "code",
    "id": "5_9gH8yAqwoh"
   },
   "outputs": [],
   "source": [
    "trainY = to_categorical(trainY, num_classes=eng_vocab_size)"
   ]
  },
  {
   "cell_type": "code",
   "execution_count": 0,
   "metadata": {
    "colab": {
     "base_uri": "https://localhost:8080/",
     "height": 34
    },
    "colab_type": "code",
    "executionInfo": {
     "elapsed": 1097,
     "status": "ok",
     "timestamp": 1558511122187,
     "user": {
      "displayName": "Mohankumar Balasubramaniyam",
      "photoUrl": "https://lh4.googleusercontent.com/-WDGyxwVw0Dw/AAAAAAAAAAI/AAAAAAAAMXg/s0XKgKv-dN8/s64/photo.jpg",
      "userId": "03872728872081242131"
     },
     "user_tz": -330
    },
    "id": "3D7EyUpIq5zC",
    "outputId": "ff31bec4-26c7-4a32-f002-afe9c9084dd5"
   },
   "outputs": [
    {
     "data": {
      "text/plain": [
       "(9000, 5, 2205)"
      ]
     },
     "execution_count": 25,
     "metadata": {
      "tags": []
     },
     "output_type": "execute_result"
    }
   ],
   "source": [
    "trainY.shape"
   ]
  },
  {
   "cell_type": "code",
   "execution_count": 0,
   "metadata": {
    "colab": {
     "base_uri": "https://localhost:8080/",
     "height": 34
    },
    "colab_type": "code",
    "executionInfo": {
     "elapsed": 674,
     "status": "ok",
     "timestamp": 1558511122654,
     "user": {
      "displayName": "Mohankumar Balasubramaniyam",
      "photoUrl": "https://lh4.googleusercontent.com/-WDGyxwVw0Dw/AAAAAAAAAAI/AAAAAAAAMXg/s0XKgKv-dN8/s64/photo.jpg",
      "userId": "03872728872081242131"
     },
     "user_tz": -330
    },
    "id": "euJEaMGmxCPG",
    "outputId": "951cabf2-7752-4e67-ee42-8c32e9dabecf"
   },
   "outputs": [
    {
     "data": {
      "text/plain": [
       "(1000, 5, 2205)"
      ]
     },
     "execution_count": 26,
     "metadata": {
      "tags": []
     },
     "output_type": "execute_result"
    }
   ],
   "source": [
    "testX = german_tokenizer.texts_to_sequences(df_test['German'])\n",
    "testX = pad_sequences(testX, maxlen=german_max_len, padding='post')\n",
    "testY = english_tokenizer.texts_to_sequences(df_test['English'])\n",
    "testY = pad_sequences(testY, maxlen=eng_max_len, padding='post')\n",
    "testY = to_categorical(testY, num_classes=eng_vocab_size)\n",
    "testY.shape"
   ]
  },
  {
   "cell_type": "code",
   "execution_count": 0,
   "metadata": {
    "colab": {},
    "colab_type": "code",
    "id": "qSCgDTdnvTsE"
   },
   "outputs": [],
   "source": [
    "embedding_size = 256"
   ]
  },
  {
   "cell_type": "code",
   "execution_count": 0,
   "metadata": {
    "colab": {
     "base_uri": "https://localhost:8080/",
     "height": 377
    },
    "colab_type": "code",
    "executionInfo": {
     "elapsed": 2507,
     "status": "ok",
     "timestamp": 1558511127184,
     "user": {
      "displayName": "Mohankumar Balasubramaniyam",
      "photoUrl": "https://lh4.googleusercontent.com/-WDGyxwVw0Dw/AAAAAAAAAAI/AAAAAAAAMXg/s0XKgKv-dN8/s64/photo.jpg",
      "userId": "03872728872081242131"
     },
     "user_tz": -330
    },
    "id": "AnJpRSccr7GM",
    "outputId": "04f50a0d-0415-4f81-b8f7-9a94564279d8"
   },
   "outputs": [
    {
     "name": "stdout",
     "output_type": "stream",
     "text": [
      "WARNING:tensorflow:From /usr/local/lib/python3.6/dist-packages/tensorflow/python/framework/op_def_library.py:263: colocate_with (from tensorflow.python.framework.ops) is deprecated and will be removed in a future version.\n",
      "Instructions for updating:\n",
      "Colocations handled automatically by placer.\n",
      "_________________________________________________________________\n",
      "Layer (type)                 Output Shape              Param #   \n",
      "=================================================================\n",
      "embedding_1 (Embedding)      (None, 10, 256)           912640    \n",
      "_________________________________________________________________\n",
      "lstm_1 (LSTM)                (None, 256)               525312    \n",
      "_________________________________________________________________\n",
      "repeat_vector_1 (RepeatVecto (None, 5, 256)            0         \n",
      "_________________________________________________________________\n",
      "lstm_2 (LSTM)                (None, 5, 256)            525312    \n",
      "_________________________________________________________________\n",
      "time_distributed_1 (TimeDist (None, 5, 2205)           566685    \n",
      "=================================================================\n",
      "Total params: 2,529,949\n",
      "Trainable params: 2,529,949\n",
      "Non-trainable params: 0\n",
      "_________________________________________________________________\n"
     ]
    }
   ],
   "source": [
    "model = Sequential()\n",
    "model.add(Embedding(german_vocab_size,embedding_size,input_length=german_max_len))\n",
    "model.add(LSTM(256))\n",
    "model.add(RepeatVector(eng_max_len))\n",
    "model.add(LSTM(256,return_sequences=True))\n",
    "model.add(TimeDistributed(Dense(eng_vocab_size,activation='softmax')))\n",
    "model.compile(optimizer='adam', loss='categorical_crossentropy')\n",
    "model.summary()"
   ]
  },
  {
   "cell_type": "code",
   "execution_count": 0,
   "metadata": {
    "colab": {},
    "colab_type": "code",
    "id": "o3TIlyF8watj"
   },
   "outputs": [],
   "source": [
    "# fit model\n",
    "filename = 'model.h5'\n",
    "checkpoint = ModelCheckpoint(filename, monitor='val_loss', verbose=1, save_best_only=True, mode='min')"
   ]
  },
  {
   "cell_type": "code",
   "execution_count": 0,
   "metadata": {
    "colab": {
     "base_uri": "https://localhost:8080/",
     "height": 2162
    },
    "colab_type": "code",
    "executionInfo": {
     "elapsed": 135794,
     "status": "ok",
     "timestamp": 1558511270530,
     "user": {
      "displayName": "Mohankumar Balasubramaniyam",
      "photoUrl": "https://lh4.googleusercontent.com/-WDGyxwVw0Dw/AAAAAAAAAAI/AAAAAAAAMXg/s0XKgKv-dN8/s64/photo.jpg",
      "userId": "03872728872081242131"
     },
     "user_tz": -330
    },
    "id": "RVKS5Dc0xuFE",
    "outputId": "5f5f2d4c-d366-4501-fe43-4802e0e7996f"
   },
   "outputs": [
    {
     "name": "stdout",
     "output_type": "stream",
     "text": [
      "WARNING:tensorflow:From /usr/local/lib/python3.6/dist-packages/tensorflow/python/ops/math_ops.py:3066: to_int32 (from tensorflow.python.ops.math_ops) is deprecated and will be removed in a future version.\n",
      "Instructions for updating:\n",
      "Use tf.cast instead.\n",
      "Train on 9000 samples, validate on 1000 samples\n",
      "Epoch 1/30\n",
      " - 8s - loss: 3.8122 - val_loss: 4.3183\n",
      "\n",
      "Epoch 00001: val_loss improved from inf to 4.31826, saving model to model.h5\n",
      "Epoch 2/30\n",
      " - 5s - loss: 3.2471 - val_loss: 4.2471\n",
      "\n",
      "Epoch 00002: val_loss improved from 4.31826 to 4.24711, saving model to model.h5\n",
      "Epoch 3/30\n",
      " - 4s - loss: 3.1870 - val_loss: 4.2517\n",
      "\n",
      "Epoch 00003: val_loss did not improve from 4.24711\n",
      "Epoch 4/30\n",
      " - 4s - loss: 3.1581 - val_loss: 4.2506\n",
      "\n",
      "Epoch 00004: val_loss did not improve from 4.24711\n",
      "Epoch 5/30\n",
      " - 4s - loss: 3.1415 - val_loss: 4.2943\n",
      "\n",
      "Epoch 00005: val_loss did not improve from 4.24711\n",
      "Epoch 6/30\n",
      " - 4s - loss: 3.1303 - val_loss: 4.2643\n",
      "\n",
      "Epoch 00006: val_loss did not improve from 4.24711\n",
      "Epoch 7/30\n",
      " - 4s - loss: 3.1223 - val_loss: 4.2813\n",
      "\n",
      "Epoch 00007: val_loss did not improve from 4.24711\n",
      "Epoch 8/30\n",
      " - 4s - loss: 3.1081 - val_loss: 4.2013\n",
      "\n",
      "Epoch 00008: val_loss improved from 4.24711 to 4.20132, saving model to model.h5\n",
      "Epoch 9/30\n",
      " - 5s - loss: 2.9513 - val_loss: 4.0526\n",
      "\n",
      "Epoch 00009: val_loss improved from 4.20132 to 4.05261, saving model to model.h5\n",
      "Epoch 10/30\n",
      " - 4s - loss: 2.8005 - val_loss: 3.9789\n",
      "\n",
      "Epoch 00010: val_loss improved from 4.05261 to 3.97889, saving model to model.h5\n",
      "Epoch 11/30\n",
      " - 4s - loss: 2.6116 - val_loss: 3.8248\n",
      "\n",
      "Epoch 00011: val_loss improved from 3.97889 to 3.82475, saving model to model.h5\n",
      "Epoch 12/30\n",
      " - 4s - loss: 2.4370 - val_loss: 3.7635\n",
      "\n",
      "Epoch 00012: val_loss improved from 3.82475 to 3.76351, saving model to model.h5\n",
      "Epoch 13/30\n",
      " - 4s - loss: 2.2754 - val_loss: 3.6963\n",
      "\n",
      "Epoch 00013: val_loss improved from 3.76351 to 3.69632, saving model to model.h5\n",
      "Epoch 14/30\n",
      " - 4s - loss: 2.1043 - val_loss: 3.5962\n",
      "\n",
      "Epoch 00014: val_loss improved from 3.69632 to 3.59623, saving model to model.h5\n",
      "Epoch 15/30\n",
      " - 4s - loss: 1.9533 - val_loss: 3.5314\n",
      "\n",
      "Epoch 00015: val_loss improved from 3.59623 to 3.53142, saving model to model.h5\n",
      "Epoch 16/30\n",
      " - 4s - loss: 1.8172 - val_loss: 3.5525\n",
      "\n",
      "Epoch 00016: val_loss did not improve from 3.53142\n",
      "Epoch 17/30\n",
      " - 4s - loss: 1.6922 - val_loss: 3.4821\n",
      "\n",
      "Epoch 00017: val_loss improved from 3.53142 to 3.48206, saving model to model.h5\n",
      "Epoch 18/30\n",
      " - 4s - loss: 1.5763 - val_loss: 3.4358\n",
      "\n",
      "Epoch 00018: val_loss improved from 3.48206 to 3.43578, saving model to model.h5\n",
      "Epoch 19/30\n",
      " - 4s - loss: 1.4681 - val_loss: 3.4560\n",
      "\n",
      "Epoch 00019: val_loss did not improve from 3.43578\n",
      "Epoch 20/30\n",
      " - 4s - loss: 1.3631 - val_loss: 3.4554\n",
      "\n",
      "Epoch 00020: val_loss did not improve from 3.43578\n",
      "Epoch 21/30\n",
      " - 4s - loss: 1.2636 - val_loss: 3.4890\n",
      "\n",
      "Epoch 00021: val_loss did not improve from 3.43578\n",
      "Epoch 22/30\n",
      " - 4s - loss: 1.1691 - val_loss: 3.4288\n",
      "\n",
      "Epoch 00022: val_loss improved from 3.43578 to 3.42879, saving model to model.h5\n",
      "Epoch 23/30\n",
      " - 4s - loss: 1.0811 - val_loss: 3.4221\n",
      "\n",
      "Epoch 00023: val_loss improved from 3.42879 to 3.42210, saving model to model.h5\n",
      "Epoch 24/30\n",
      " - 4s - loss: 0.9922 - val_loss: 3.3951\n",
      "\n",
      "Epoch 00024: val_loss improved from 3.42210 to 3.39506, saving model to model.h5\n",
      "Epoch 25/30\n",
      " - 4s - loss: 0.9085 - val_loss: 3.4504\n",
      "\n",
      "Epoch 00025: val_loss did not improve from 3.39506\n",
      "Epoch 26/30\n",
      " - 4s - loss: 0.8313 - val_loss: 3.4795\n",
      "\n",
      "Epoch 00026: val_loss did not improve from 3.39506\n",
      "Epoch 27/30\n",
      " - 5s - loss: 0.7609 - val_loss: 3.4381\n",
      "\n",
      "Epoch 00027: val_loss did not improve from 3.39506\n",
      "Epoch 28/30\n",
      " - 5s - loss: 0.6903 - val_loss: 3.4897\n",
      "\n",
      "Epoch 00028: val_loss did not improve from 3.39506\n",
      "Epoch 29/30\n",
      " - 4s - loss: 0.6262 - val_loss: 3.4754\n",
      "\n",
      "Epoch 00029: val_loss did not improve from 3.39506\n",
      "Epoch 30/30\n",
      " - 4s - loss: 0.5622 - val_loss: 3.5312\n",
      "\n",
      "Epoch 00030: val_loss did not improve from 3.39506\n"
     ]
    },
    {
     "data": {
      "text/plain": [
       "<keras.callbacks.History at 0x7f2659e19a90>"
      ]
     },
     "execution_count": 30,
     "metadata": {
      "tags": []
     },
     "output_type": "execute_result"
    }
   ],
   "source": [
    "model.fit(trainX, trainY, epochs=30, batch_size=64, validation_data=(testX, testY), callbacks=[checkpoint], verbose=2)"
   ]
  },
  {
   "cell_type": "code",
   "execution_count": 0,
   "metadata": {
    "colab": {
     "base_uri": "https://localhost:8080/",
     "height": 34
    },
    "colab_type": "code",
    "executionInfo": {
     "elapsed": 1078,
     "status": "ok",
     "timestamp": 1558246957286,
     "user": {
      "displayName": "Mohankumar Balasubramaniyam",
      "photoUrl": "https://lh4.googleusercontent.com/-WDGyxwVw0Dw/AAAAAAAAAAI/AAAAAAAAMXg/s0XKgKv-dN8/s64/photo.jpg",
      "userId": "03872728872081242131"
     },
     "user_tz": -330
    },
    "id": "u8hnobbgxwt-",
    "outputId": "31d970f7-b96a-403e-b395-473d6ca35b64"
   },
   "outputs": [
    {
     "data": {
      "text/plain": [
       "'tom'"
      ]
     },
     "execution_count": 73,
     "metadata": {
      "tags": []
     },
     "output_type": "execute_result"
    }
   ],
   "source": [
    "englishword_for_id = dict((v,k) for k,v in english_tokenizer.word_index.items())  \n",
    "englishword_for_id[1]"
   ]
  },
  {
   "cell_type": "code",
   "execution_count": 0,
   "metadata": {
    "colab": {
     "base_uri": "https://localhost:8080/",
     "height": 69
    },
    "colab_type": "code",
    "executionInfo": {
     "elapsed": 830,
     "status": "ok",
     "timestamp": 1558246959704,
     "user": {
      "displayName": "Mohankumar Balasubramaniyam",
      "photoUrl": "https://lh4.googleusercontent.com/-WDGyxwVw0Dw/AAAAAAAAAAI/AAAAAAAAMXg/s0XKgKv-dN8/s64/photo.jpg",
      "userId": "03872728872081242131"
     },
     "user_tz": -330
    },
    "id": "2Ynq0Lhkb3Or",
    "outputId": "27d473c7-e78f-44e4-d625-975d82e81ee1"
   },
   "outputs": [
    {
     "name": "stdout",
     "output_type": "stream",
     "text": [
      "you\n",
      "must\n",
      "go\n"
     ]
    }
   ],
   "source": [
    "for word in np.argmax(model.predict(testX[4:5]),axis=2)[0]:\n",
    "  if word != 0:\n",
    "    print (englishword_for_id[word])"
   ]
  },
  {
   "cell_type": "code",
   "execution_count": 0,
   "metadata": {
    "colab": {
     "base_uri": "https://localhost:8080/",
     "height": 52
    },
    "colab_type": "code",
    "executionInfo": {
     "elapsed": 829,
     "status": "ok",
     "timestamp": 1558246961980,
     "user": {
      "displayName": "Mohankumar Balasubramaniyam",
      "photoUrl": "https://lh4.googleusercontent.com/-WDGyxwVw0Dw/AAAAAAAAAAI/AAAAAAAAMXg/s0XKgKv-dN8/s64/photo.jpg",
      "userId": "03872728872081242131"
     },
     "user_tz": -330
    },
    "id": "_riH_eivccHh",
    "outputId": "060a5183-2d2c-4fe9-a1fe-f99ef5dce503"
   },
   "outputs": [
    {
     "data": {
      "text/plain": [
       "array([[1165,  424,    0,    0,    0,    0,    0,    0,    0,    0]],\n",
       "      dtype=int32)"
      ]
     },
     "execution_count": 75,
     "metadata": {
      "tags": []
     },
     "output_type": "execute_result"
    }
   ],
   "source": [
    "pad_sequences(german_tokenizer.texts_to_sequences([\"Guten Morgen Jagan\"]),padding=\"post\",maxlen=10)"
   ]
  },
  {
   "cell_type": "code",
   "execution_count": 0,
   "metadata": {
    "colab": {
     "base_uri": "https://localhost:8080/",
     "height": 52
    },
    "colab_type": "code",
    "executionInfo": {
     "elapsed": 1196,
     "status": "ok",
     "timestamp": 1558247450705,
     "user": {
      "displayName": "Mohankumar Balasubramaniyam",
      "photoUrl": "https://lh4.googleusercontent.com/-WDGyxwVw0Dw/AAAAAAAAAAI/AAAAAAAAMXg/s0XKgKv-dN8/s64/photo.jpg",
      "userId": "03872728872081242131"
     },
     "user_tz": -330
    },
    "id": "BH63xfkIcpjI",
    "outputId": "a78eeb32-3aa8-40d6-c621-1f8d26ab055e"
   },
   "outputs": [
    {
     "name": "stdout",
     "output_type": "stream",
     "text": [
      "found\n",
      "him\n"
     ]
    }
   ],
   "source": [
    "predict_sentence_split = []\n",
    "for word in np.argmax(model.predict(pad_sequences(german_tokenizer.texts_to_sequences([df['German'][9999]]),padding=\"post\",maxlen=10)),axis=2)[0]:\n",
    "  if word != 0:\n",
    "    print (englishword_for_id[word])\n",
    "    predict_sentence_split.append(englishword_for_id[word])"
   ]
  },
  {
   "cell_type": "code",
   "execution_count": 0,
   "metadata": {
    "colab": {},
    "colab_type": "code",
    "id": "axMPr2VAegeU"
   },
   "outputs": [],
   "source": [
    "from nltk.translate.bleu_score import sentence_bleu"
   ]
  },
  {
   "cell_type": "code",
   "execution_count": 0,
   "metadata": {
    "colab": {
     "base_uri": "https://localhost:8080/",
     "height": 34
    },
    "colab_type": "code",
    "executionInfo": {
     "elapsed": 868,
     "status": "ok",
     "timestamp": 1558247382946,
     "user": {
      "displayName": "Mohankumar Balasubramaniyam",
      "photoUrl": "https://lh4.googleusercontent.com/-WDGyxwVw0Dw/AAAAAAAAAAI/AAAAAAAAMXg/s0XKgKv-dN8/s64/photo.jpg",
      "userId": "03872728872081242131"
     },
     "user_tz": -330
    },
    "id": "h9v6GPm9plQA",
    "outputId": "da21038a-d9e8-48db-c321-ac38539b58ed"
   },
   "outputs": [
    {
     "data": {
      "text/plain": [
       "'just found it'"
      ]
     },
     "execution_count": 96,
     "metadata": {
      "tags": []
     },
     "output_type": "execute_result"
    }
   ],
   "source": [
    "df['English'][9999]"
   ]
  },
  {
   "cell_type": "code",
   "execution_count": 0,
   "metadata": {
    "colab": {
     "base_uri": "https://localhost:8080/",
     "height": 104
    },
    "colab_type": "code",
    "executionInfo": {
     "elapsed": 876,
     "status": "ok",
     "timestamp": 1558247470575,
     "user": {
      "displayName": "Mohankumar Balasubramaniyam",
      "photoUrl": "https://lh4.googleusercontent.com/-WDGyxwVw0Dw/AAAAAAAAAAI/AAAAAAAAMXg/s0XKgKv-dN8/s64/photo.jpg",
      "userId": "03872728872081242131"
     },
     "user_tz": -330
    },
    "id": "u56OfuqaxjEw",
    "outputId": "c6694376-e336-4e50-9f7f-d50b6098ecf1"
   },
   "outputs": [
    {
     "name": "stderr",
     "output_type": "stream",
     "text": [
      "/usr/local/lib/python3.6/dist-packages/nltk/translate/bleu_score.py:490: UserWarning: \n",
      "Corpus/Sentence contains 0 counts of 2-gram overlaps.\n",
      "BLEU scores might be undesirable; use SmoothingFunction().\n",
      "  warnings.warn(_msg)\n"
     ]
    },
    {
     "data": {
      "text/plain": [
       "0.510029457493824"
      ]
     },
     "execution_count": 98,
     "metadata": {
      "tags": []
     },
     "output_type": "execute_result"
    }
   ],
   "source": [
    "sentence_bleu([df['English'][9999].split()],predict_sentence_split)"
   ]
  },
  {
   "cell_type": "code",
   "execution_count": 0,
   "metadata": {
    "colab": {},
    "colab_type": "code",
    "id": "PdDjH7w-yXJH"
   },
   "outputs": [],
   "source": []
  }
 ],
 "metadata": {
  "accelerator": "GPU",
  "colab": {
   "collapsed_sections": [],
   "name": "Enocoder_Decoder_MachineTranslation_Greedy.ipynb",
   "provenance": [],
   "version": "0.3.2"
  },
  "kernelspec": {
   "display_name": "Python 3",
   "language": "python",
   "name": "python3"
  },
  "language_info": {
   "codemirror_mode": {
    "name": "ipython",
    "version": 3
   },
   "file_extension": ".py",
   "mimetype": "text/x-python",
   "name": "python",
   "nbconvert_exporter": "python",
   "pygments_lexer": "ipython3",
   "version": "3.7.3"
  }
 },
 "nbformat": 4,
 "nbformat_minor": 1
}
